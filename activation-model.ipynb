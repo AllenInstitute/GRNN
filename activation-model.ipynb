{
 "cells": [
  {
   "cell_type": "code",
   "execution_count": 1,
   "id": "940688d2",
   "metadata": {},
   "outputs": [],
   "source": [
    "import torch\n",
    "import torch.nn.functional as F\n",
    "import matplotlib.pyplot as plt\n",
    "import numpy as np\n",
    "import itertools\n",
    "import pickle\n",
    "\n",
    "from model import PolynomialActivation\n",
    "from train import fit_activation\n",
    "from utils import get_max_firing_rate\n",
    "from data import get_raw_data, preprocess_data, get_data"
   ]
  },
  {
   "cell_type": "code",
   "execution_count": 2,
   "id": "b2c0c604",
   "metadata": {},
   "outputs": [],
   "source": [
    "def get_activation_plot(actv, start=-100, end=270):\n",
    "    currents = torch.linspace(start, end, steps=300)\n",
    "    fs = []\n",
    "    with torch.no_grad():\n",
    "        for i in currents:\n",
    "            f = actv(i)\n",
    "            fs.append(f)\n",
    "    return currents, fs\n",
    "\n",
    "def plot_activation(Is, fs, actv, loss):\n",
    "    fig, axs = plt.subplots(2)\n",
    "    fig.suptitle(f\"id={cell_id}, bin={bin_size}, deg={actv.degree}, loss={loss}, C={actv.C}\")\n",
    "    axs[0].scatter(Is, fs)\n",
    "    axs[1].scatter(Is, fs)\n",
    "    xs1, ys1 = get_activation_plot(actv, end=int(actv.max_current)+10)\n",
    "    xs2, ys2 = get_activation_plot(actv, end=1000)\n",
    "    axs[0].plot(xs1, ys1)\n",
    "    axs[1].plot(xs2, ys2)\n",
    "    \n",
    "def get_activations(\n",
    "    Is,\n",
    "    fs,\n",
    "    bin_size, \n",
    "    epochs=10000, \n",
    "    repeats=1,\n",
    "    C=0,\n",
    "    degree=1,\n",
    "    max_firing_rate=100,\n",
    "    device=None\n",
    "):  \n",
    "    max_current = np.max(np.abs(Is.cpu().numpy()))\n",
    "    actvs = []\n",
    "    losses = []\n",
    "\n",
    "    best_actv = None\n",
    "    best_loss = 1e10\n",
    "\n",
    "    for i in range(repeats):\n",
    "        for d in range(1, degree+1):\n",
    "            actv = PolynomialActivation()\n",
    "            actv.init_params(d, max_current, max_firing_rate, Is, fs, C=C)\n",
    "            actv.bin_size = bin_size\n",
    "            actv = actv.to(device)\n",
    "            criterion = torch.nn.PoissonNLLLoss(log_input=False)\n",
    "            #criterion = torch.nn.HuberLoss()\n",
    "            optimizer = torch.optim.Adam(actv.parameters(), lr=0.3)\n",
    "\n",
    "            ls = fit_activation(\n",
    "                actv,\n",
    "                criterion,\n",
    "                optimizer,\n",
    "                Is,\n",
    "                fs,\n",
    "                epochs=epochs,\n",
    "                C=C\n",
    "            )\n",
    "\n",
    "            loss = ls[-1]\n",
    "\n",
    "            if loss < best_loss:\n",
    "                best_actv, best_loss = actv, loss\n",
    "            \n",
    "            #plt.figure()\n",
    "            #plt.plot(list(range(len(ls))), ls)\n",
    "            #plt.title(f\"cell_id={cell_id}, bin_size={bin_size}, degree={d}\")\n",
    "\n",
    "    actvs.append(best_actv)\n",
    "    losses.append(best_loss)\n",
    "    best_loss = np.min(losses)\n",
    "    best_actv = actvs[np.argmin(losses)]\n",
    "    return best_actv, best_loss"
   ]
  },
  {
   "cell_type": "code",
   "execution_count": 9,
   "id": "89271232",
   "metadata": {},
   "outputs": [
    {
     "name": "stdout",
     "output_type": "stream",
     "text": [
      "476129135\n"
     ]
    }
   ],
   "source": [
    "bin_size = 20\n",
    "C = 0\n",
    "\n",
    "d = {}\n",
    "\n",
    "with open(\"model/max_firing_rates.pickle\", \"rb\") as f:\n",
    "    mfrs = pickle.load(f)\n",
    "\n",
    "for cell_id in [476129135]:\n",
    "    print(cell_id)\n",
    "    aligned_data = get_data(cell_id, aligned=True)\n",
    "    Is, fs = preprocess_data(aligned_data, bin_size=bin_size)\n",
    "    Is, fs = torch.tensor(Is), torch.tensor(fs)\n",
    "    max_firing_rate = mfrs[cell_id]\n",
    "\n",
    "    # get best activation\n",
    "    g, l = get_activations(\n",
    "        Is,\n",
    "        fs,\n",
    "        bin_size, \n",
    "        epochs=500, \n",
    "        repeats=1,\n",
    "        C=0,\n",
    "        degree=1,\n",
    "        max_firing_rate=max_firing_rate\n",
    "    )\n",
    "    \n",
    "    d[cell_id] = (g, l)"
   ]
  },
  {
   "cell_type": "code",
   "execution_count": 10,
   "id": "71475a73",
   "metadata": {},
   "outputs": [
    {
     "data": {
      "image/png": "[encoded data removed]",
      "text/plain": [
       "<Figure size 640x480 with 2 Axes>"
      ]
     },
     "metadata": {},
     "output_type": "display_data"
    }
   ],
   "source": [
    "for cell_id in d:\n",
    "    aligned_data = get_data(cell_id, aligned=True)\n",
    "    Is, fs = preprocess_data(aligned_data, bin_size=bin_size)\n",
    "    Is, fs = torch.tensor(Is), torch.tensor(fs)\n",
    "    plot_activation(Is, fs, d[cell_id][0], d[cell_id][1])\n",
    "    d[cell_id][0].save_params(f\"model/activation/poisson/bin_size_{bin_size}/{cell_id}_{C}.pickle\")\n",
    "    plt.savefig(f\"figures/activation/poisson/bin_size_{bin_size}/{cell_id}_{C}_best.png\")"
   ]
  },
  {
   "cell_type": "code",
   "execution_count": null,
   "id": "0ac96ea3",
   "metadata": {},
   "outputs": [],
   "source": []
  }
 ],
 "metadata": {
  "kernelspec": {
   "display_name": "Python 3 (ipykernel)",
   "language": "python",
   "name": "python3"
  },
  "language_info": {
   "codemirror_mode": {
    "name": "ipython",
    "version": 3
   },
   "file_extension": ".py",
   "mimetype": "text/x-python",
   "name": "python",
   "nbconvert_exporter": "python",
   "pygments_lexer": "ipython3",
   "version": "3.10.11"
  }
 },
 "nbformat": 4,
 "nbformat_minor": 5
}
