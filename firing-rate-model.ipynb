{
 "cells": [
  {
   "cell_type": "code",
   "execution_count": 1,
   "id": "55504ec9",
   "metadata": {},
   "outputs": [],
   "source": [
    "import os\n",
    "import pickle\n",
    "\n",
    "import torch\n",
    "import torch.nn.functional as F\n",
    "import matplotlib.pyplot as plt\n",
    "import numpy as np\n",
    "import sklearn.utils\n",
    "\n",
    "from tqdm import tqdm\n",
    "\n",
    "from model import FiringRateModel, PolynomialActivation\n",
    "from train import train_model\n",
    "from data import get_data, get_train_test_data\n",
    "from evaluate import explained_variance_ratio\n",
    "from utils import plot_predictions, plot_kernel\n",
    "from config import config"
   ]
  },
  {
   "cell_type": "code",
   "execution_count": 2,
   "id": "a5bc1fe7",
   "metadata": {},
   "outputs": [
    {
     "name": "stdout",
     "output_type": "stream",
     "text": [
      "cpu\n"
     ]
    }
   ],
   "source": [
    "if torch.cuda.is_available():\n",
    "    device = torch.device(\"cuda\")\n",
    "else:\n",
    "    device = torch.device(\"cpu\")\n",
    "    \n",
    "print(device)"
   ]
  },
  {
   "cell_type": "code",
   "execution_count": 3,
   "id": "59b775ad",
   "metadata": {},
   "outputs": [],
   "source": [
    "def train(Is, fs, g, cell_id, bin_size, ds=None, device=None, repeats=1, plot=False):\n",
    "    best_model, best_losses = None, [0, 1e10]\n",
    "    \n",
    "    for i in range(repeats):\n",
    "        model = FiringRateModel(\n",
    "            g.to(device), ds, bin_size=bin_size, device=device\n",
    "        ).to(device)\n",
    "\n",
    "        criterion = torch.nn.PoissonNLLLoss(log_input=False, reduction=\"none\")\n",
    "        optimizer = torch.optim.RMSprop(model.parameters(), lr=0.03, centered=True)\n",
    "        scheduler = torch.optim.lr_scheduler.StepLR(optimizer, gamma=0.85, step_size=5)\n",
    "\n",
    "        losses = train_model(\n",
    "            model, \n",
    "            criterion, \n",
    "            optimizer,\n",
    "            Is,\n",
    "            fs,\n",
    "            epochs = 150,\n",
    "            print_every = 151,\n",
    "            bin_size = bin_size,\n",
    "            up_factor = 1,\n",
    "            scheduler = scheduler\n",
    "        )\n",
    "        \n",
    "        if plot:\n",
    "            plt.plot(list(range(len(losses))), losses)\n",
    "        \n",
    "        if best_losses[-1] > losses[-1]:\n",
    "            best_losses = losses\n",
    "            best_model = model\n",
    "    \n",
    "    return best_model, best_losses"
   ]
  },
  {
   "cell_type": "code",
   "execution_count": null,
   "id": "51bdf93d",
   "metadata": {},
   "outputs": [
    {
     "name": "stdout",
     "output_type": "stream",
     "text": [
      "504615116\n"
     ]
    },
    {
     "name": "stderr",
     "output_type": "stream",
     "text": [
      "Train model:  45%|████████████▉                | 67/150 [00:46<00:54,  1.53it/s]"
     ]
    }
   ],
   "source": [
    "d = {}\n",
    "\n",
    "bin_size = 20\n",
    "ds = np.linspace(0.05, 1.0, 20)\n",
    "actv_bin_size = 100\n",
    "\n",
    "for cell_id in [504615116, 513593674, 565871768, 583836069, 605889373]:\n",
    "    print(cell_id)\n",
    "    data = get_data(cell_id, aligned=False)\n",
    "    Is_tr, fs_tr, Is_te, fs_te, stims = get_train_test_data(data, bin_size, device=device)\n",
    "    Is_tr, fs_tr, stims = sklearn.utils.shuffle(Is_tr, fs_tr, stims)\n",
    "\n",
    "    actv = PolynomialActivation()\n",
    "    actv.init_from_file(f\"model/activation/poisson/bin_size_{actv_bin_size}/{cell_id}_0.pickle\")\n",
    "    model, losses = train(Is_tr, fs_tr, actv, cell_id, bin_size, ds=ds, device=device, repeats=1, plot=True)\n",
    "    \n",
    "    d[cell_id] = (model, losses)\n",
    "    \n",
    "    save = True\n",
    "    if save:\n",
    "        plt.savefig(config[\"fig_save_path\"] + f\"{cell_id}/bin_size_{bin_size}/Loss_{actv_bin_size}.png\")\n",
    "        plt.xlabel(\"epoch\")\n",
    "        plt.ylabel(\"loss\")\n",
    "        plt.close()\n",
    "\n",
    "        for Is, fs, s in zip(Is_tr, fs_tr, stims):\n",
    "            for i in range(Is.shape[0]):\n",
    "                plot_predictions(\n",
    "                    model, \n",
    "                    Is[i, :], \n",
    "                    fs[i, :], \n",
    "                    cell_id, \n",
    "                    bin_size, \n",
    "                    evr = None,\n",
    "                    save = save,\n",
    "                    fname = f\"{s} {i}_{actv_bin_size}\"\n",
    "                )\n",
    "\n",
    "        r = explained_variance_ratio(model, Is_te[0], fs_te[0], bin_size)\n",
    "        rq = explained_variance_ratio(model, Is_te[0], fs_te[0], bin_size, quantize=True)\n",
    "        plot_predictions(\n",
    "            model, \n",
    "            Is_te[0][0, :], \n",
    "            fs_te[0][0, :], \n",
    "            cell_id, \n",
    "            bin_size, \n",
    "            evr = (r, rq),\n",
    "            save = save,\n",
    "            fname = f\"Noise 2_{actv_bin_size}\"\n",
    "        )\n",
    "\n",
    "        plot_kernel(\n",
    "            model,\n",
    "            cell_id,\n",
    "            bin_size,\n",
    "            save = save,\n",
    "            fname = f\"Kernel_{actv_bin_size}\"\n",
    "        )"
   ]
  }
 ],
 "metadata": {
  "kernelspec": {
   "display_name": "Python 3 (ipykernel)",
   "language": "python",
   "name": "python3"
  },
  "language_info": {
   "codemirror_mode": {
    "name": "ipython",
    "version": 3
   },
   "file_extension": ".py",
   "mimetype": "text/x-python",
   "name": "python",
   "nbconvert_exporter": "python",
   "pygments_lexer": "ipython3",
   "version": "3.10.11"
  }
 },
 "nbformat": 4,
 "nbformat_minor": 5
}
