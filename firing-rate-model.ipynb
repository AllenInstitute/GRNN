{
 "cells": [
  {
   "cell_type": "code",
   "execution_count": null,
   "id": "55504ec9",
   "metadata": {},
   "outputs": [],
   "source": [
    "import os\n",
    "import pickle\n",
    "\n",
    "import torch\n",
    "import torch.nn.functional as F\n",
    "import matplotlib.pyplot as plt\n",
    "import numpy as np\n",
    "\n",
    "from model import FiringRateModel, PolynomialActivation, train_model\n",
    "from data import load_data, preprocess_data"
   ]
  },
  {
   "cell_type": "code",
   "execution_count": null,
   "id": "f763d8ff",
   "metadata": {},
   "outputs": [],
   "source": [
    "#device = torch.device(\"mps\")\n",
    "device = torch.device('cuda' if torch.cuda.is_available() else 'cpu')"
   ]
  },
  {
   "cell_type": "code",
   "execution_count": null,
   "id": "59b775ad",
   "metadata": {},
   "outputs": [],
   "source": [
    "def test_model(model, criterion, Is, fs, k: int):\n",
    "    with torch.no_grad():\n",
    "        f = fs[0] # initialize firing rate to t=0\n",
    "        loss = 0\n",
    "        n = 0\n",
    "        for i in range(k+1, len(Is)):\n",
    "            currs = Is[i-k:i+1]\n",
    "            f = model(currs, f)\n",
    "            loss += criterion(f, fs[i]).item()\n",
    "            n += 1\n",
    "    return loss / n\n",
    "\n",
    "def predict(model, Is, fs, k: int):\n",
    "    with torch.no_grad():\n",
    "        f = fs[0] # initialize firing rate to t=0\n",
    "        pred_fs = []\n",
    "        for i in range(k+1, len(Is)):\n",
    "            currs = Is[i-k:i+1]\n",
    "            f = model(currs, f)\n",
    "            pred_fs.append(f)\n",
    "    return pred_fs\n",
    "\n",
    "def plot_predictions(model, Is, fs, k: int):\n",
    "    pred_fs = predict(model, Is, fs, k)\n",
    "    ts = list(range(1, len(fs)))\n",
    "    plt.plot(ts, fs[1:], label=\"Actual\")\n",
    "    plt.plot(ts, pred_fs, label=\"Predicted\")\n",
    "    plt.legend()\n",
    "    plt.ylabel(\"Firing rate\")\n",
    "    plt.xlabel(\"t\")"
   ]
  },
  {
   "cell_type": "code",
   "execution_count": null,
   "id": "d9ec2655",
   "metadata": {},
   "outputs": [],
   "source": [
    "data = load_data()\n",
    "data.keys()"
   ]
  },
  {
   "cell_type": "code",
   "execution_count": null,
   "id": "8fb4df27",
   "metadata": {},
   "outputs": [],
   "source": [
    "def get_train_test_data(data, cell_id, bin_size):\n",
    "    Is_tr, fs_tr, Is_te, fs_te = tuple([] for _ in range(4))\n",
    "    \n",
    "    for sweep in data[cell_id][:-1]:\n",
    "        stim_name = sweep[\"stimulus_name\"]\n",
    "        Is = torch.tensor(sweep[\"current\"][bin_size], device=device)\n",
    "        fs = torch.tensor(sweep[\"firing_rate\"][bin_size], device=device)\n",
    "        if stim_name == \"Noise 2\":\n",
    "            Is_te.append(Is)\n",
    "            fs_te.append(fs)\n",
    "        elif stim_name != \"Test\":\n",
    "            Is_tr.append(Is)\n",
    "            fs_tr.append(fs)\n",
    "    return Is_tr, fs_tr, Is_te, fs_te\n",
    "\n",
    "def data_lens(Is):\n",
    "    lens = [len(a) for a in Is]\n",
    "    counts = {}\n",
    "    for l in lens:\n",
    "        if l not in counts:\n",
    "            counts[l] = 0\n",
    "        counts[l] += 1\n",
    "    print(counts)"
   ]
  },
  {
   "cell_type": "code",
   "execution_count": null,
   "id": "b588c9f5",
   "metadata": {
    "scrolled": true
   },
   "outputs": [],
   "source": [
    "bin_size = 100\n",
    "cell_id = 605889373\n",
    "k = 1\n",
    "loss_fn = \"poisson\"\n",
    "Is_tr, fs_tr, Is_te, fs_te = get_train_test_data(data, cell_id, bin_size)\n",
    "data_lens(Is_tr)\n",
    "data_lens(Is_te)"
   ]
  },
  {
   "cell_type": "code",
   "execution_count": null,
   "id": "51bdf93d",
   "metadata": {},
   "outputs": [],
   "source": [
    "actv = PolynomialActivation()\n",
    "actv.init_from_file(f\"model/activation/{loss_fn}/bin_size_{bin_size}/{cell_id}_1e-05.pickle\")\n",
    "\n",
    "model = FiringRateModel(actv, k=k).to(device)\n",
    "if loss_fn == \"poisson\":\n",
    "    criterion = torch.nn.PoissonNLLLoss(log_input=False)\n",
    "elif loss_fn == \"huber\":\n",
    "    #criterion = torch.nn.HuberLoss()\n",
    "    criterion = torch.nn.MSELoss()\n",
    "optimizer = torch.optim.Adam(model.parameters(), lr=0.1)\n",
    "\n",
    "train_model(\n",
    "    model, \n",
    "    criterion, \n",
    "    optimizer,\n",
    "    Is_tr,\n",
    "    fs_tr,\n",
    "    k,\n",
    "    epochs = 10,\n",
    "    print_every = 1,\n",
    "    loss_fn = loss_fn,\n",
    "    bin_size = bin_size,\n",
    "    up_factor = 1000\n",
    ")\n",
    "'''\n",
    "train_loss = test_model(\n",
    "    model, \n",
    "    criterion, \n",
    "    Is_tr,\n",
    "    fs_tr,\n",
    "    k\n",
    ")\n",
    "\n",
    "test_loss = test_model(\n",
    "    model, \n",
    "    criterion, \n",
    "    Is_te,\n",
    "    fs_te,\n",
    "    k\n",
    ")\n",
    "\n",
    "print(f\"\\nTrain Loss: {train_loss}\")\n",
    "print(f\"Test Loss: {test_loss}\")''';"
   ]
  },
  {
   "cell_type": "code",
   "execution_count": null,
   "id": "7de10137",
   "metadata": {},
   "outputs": [],
   "source": [
    "for i in range(len(Is_tr)):\n",
    "    if not torch.all(fs_tr[i] <= 0.01):\n",
    "        plt.figure()\n",
    "        pred_fs = predict(model, Is_tr[i], fs_tr[i], k)\n",
    "        ts = list(range(len(Is_tr[i])-k-1))\n",
    "        plt.plot(ts, fs_tr[i][k+1:])\n",
    "        plt.plot(ts, pred_fs)"
   ]
  },
  {
   "cell_type": "code",
   "execution_count": null,
   "id": "872b0c15",
   "metadata": {},
   "outputs": [],
   "source": [
    "for i in range(len(Is_tr)):\n",
    "    pred_fs = predict(model, Is_tr[i], fs_tr[i], k)\n",
    "    ts = list(range(len(Is_tr[i])-k-1))\n",
    "    #plt.plot(ts, fs_tr[i][k+1:])\n",
    "    plt.plot(ts, pred_fs)"
   ]
  },
  {
   "cell_type": "code",
   "execution_count": null,
   "id": "0b395b4e",
   "metadata": {},
   "outputs": [],
   "source": [
    "for i in range(len(Is_tr)):\n",
    "    #plt.figure()\n",
    "    pred_fs = predict(model, Is_tr[i], fs_tr[i], k)\n",
    "    ts = list(range(len(Is_tr[i])-k-1))\n",
    "    plt.plot(ts, fs_tr[i][k+1:])\n",
    "    #plt.plot(ts, pred_fs)"
   ]
  },
  {
   "cell_type": "code",
   "execution_count": null,
   "id": "c5912ecc",
   "metadata": {},
   "outputs": [],
   "source": [
    "print(model.a, model.b)\n",
    "print(model.g.poly_coeff)"
   ]
  },
  {
   "cell_type": "code",
   "execution_count": null,
   "id": "563023ed",
   "metadata": {},
   "outputs": [],
   "source": []
  }
 ],
 "metadata": {
  "kernelspec": {
   "display_name": "Python 3 (ipykernel)",
   "language": "python",
   "name": "python3"
  },
  "language_info": {
   "codemirror_mode": {
    "name": "ipython",
    "version": 3
   },
   "file_extension": ".py",
   "mimetype": "text/x-python",
   "name": "python",
   "nbconvert_exporter": "python",
   "pygments_lexer": "ipython3",
   "version": "3.10.11"
  }
 },
 "nbformat": 4,
 "nbformat_minor": 5
}
