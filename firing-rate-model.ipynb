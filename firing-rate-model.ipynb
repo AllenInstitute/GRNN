{
 "cells": [
  {
   "cell_type": "code",
   "execution_count": 9,
   "id": "55504ec9",
   "metadata": {},
   "outputs": [],
   "source": [
    "import os\n",
    "import pickle\n",
    "\n",
    "import torch\n",
    "import torch.nn.functional as F\n",
    "import matplotlib.pyplot as plt\n",
    "import numpy as np\n",
    "import sklearn.utils\n",
    "\n",
    "from model import FiringRateModel, PolynomialActivation, train_model\n",
    "from data import load_data, preprocess_data, get_train_test_data\n",
    "from evaluate import explained_variance_ratio"
   ]
  },
  {
   "cell_type": "code",
   "execution_count": 10,
   "id": "a5bc1fe7",
   "metadata": {},
   "outputs": [],
   "source": [
    "#device = torch.device(\"mps\")\n",
    "device = torch.device('cuda' if torch.cuda.is_available() else 'cpu')"
   ]
  },
  {
   "cell_type": "code",
   "execution_count": 15,
   "id": "59b775ad",
   "metadata": {},
   "outputs": [],
   "source": [
    "def plot_predictions(model, Is, fs, evr=None):    \n",
    "    pred_fs = model.predict(Is)\n",
    "    ts = np.arange(len(Is)) * bin_size / 1000\n",
    "    fig, axs = plt.subplots(2)\n",
    "    \n",
    "    if evr is not None:\n",
    "        fig.suptitle(f\"cell_id={cell_id}, bin_size={bin_size}, k={k}, l={l}, evr={evr[0]:.3f}/{evr[1]:.3f}\")\n",
    "    else:\n",
    "        fig.suptitle(f\"cell_id={cell_id}, bin_size={bin_size}, k={k}, l={l}\")\n",
    "        \n",
    "    axs[0].plot(ts, fs)\n",
    "    axs[0].plot(ts, pred_fs)\n",
    "    axs[1].plot(ts, Is)\n",
    "    axs[0].set_ylabel(\"firing rate\")\n",
    "    axs[1].set_ylabel(\"current (pA)\")\n",
    "    axs[1].set_xlabel(\"time (s)\")\n",
    "    \n",
    "def train(cell_id, bin_size, k, l, loss_fn, save=True, a=None, b=None):\n",
    "    Is_tr, fs_tr, Is_te, fs_te, ws = get_train_test_data(data, cell_id, bin_size, device=device)\n",
    "    Is_tr, fs_tr, ws = sklearn.utils.shuffle(Is_tr, fs_tr, ws)\n",
    "    \n",
    "    actv = PolynomialActivation()\n",
    "    actv.init_from_file(f\"model/activation/{loss_fn}/bin_size_{bin_size}/{cell_id}_1e-05.pickle\")\n",
    "\n",
    "    model = FiringRateModel(actv, k=k, l=l, a=a, b=b, static_g=False).to(device)\n",
    "    if loss_fn == \"poisson\":\n",
    "        criterion = torch.nn.PoissonNLLLoss(log_input=False)\n",
    "    elif loss_fn == \"huber\":\n",
    "        criterion = torch.nn.HuberLoss()\n",
    "        #criterion = torch.nn.MSELoss()\n",
    "    #optimizer = torch.optim.Adam(model.parameters(), lr=0.1)\n",
    "    optimizer = torch.optim.RMSprop(model.parameters(), lr=0.1, centered=True)\n",
    "    \n",
    "    epochs = 1 if k == 0 and l == 0 else 100\n",
    "    print_every = 1 if k == 0 and l == 0 else 10\n",
    "    losses = train_model(\n",
    "        model, \n",
    "        criterion, \n",
    "        optimizer,\n",
    "        Is_tr,\n",
    "        fs_tr,\n",
    "        epochs = epochs,\n",
    "        print_every = print_every,\n",
    "        loss_fn = loss_fn,\n",
    "        bin_size = bin_size,\n",
    "        up_factor = 5,\n",
    "        ws = ws\n",
    "    )\n",
    "    \n",
    "    for i in range(len(Is_tr)):\n",
    "        if not torch.all(fs_tr[i] <= 0.01):\n",
    "            plot_predictions(model, Is_tr[i], fs_tr[i], evr=None)\n",
    "            if save:\n",
    "                plt.savefig(f\"figures/model/{cell_id}/bin_size_{bin_size}/{k}_{l}_{i}.png\")\n",
    "                plt.close()\n",
    "                \n",
    "    if save:\n",
    "        plt.plot(list(range(len(losses))), losses)\n",
    "        plt.xlabel(\"epoch\")\n",
    "        plt.ylabel(\"loss\")\n",
    "        plt.savefig(f\"figures/model/{cell_id}/bin_size_{bin_size}/loss/{k}_{l}.png\")\n",
    "        plt.close()\n",
    "    \n",
    "    r = explained_variance_ratio(model, Is_te, fs_te, bin_size)\n",
    "    rq = explained_variance_ratio(model, Is_te, fs_te, bin_size, quantize=True)\n",
    "    plot_predictions(model, Is_te[0], fs_te[0], evr=(r, rq))\n",
    "    if save:\n",
    "        plt.savefig(f\"figures/model/{cell_id}/bin_size_{bin_size}/{k}_{l}_noise2.png\")\n",
    "        plt.close()\n",
    "    return model"
   ]
  },
  {
   "cell_type": "code",
   "execution_count": 16,
   "id": "d9ec2655",
   "metadata": {},
   "outputs": [
    {
     "data": {
      "text/plain": [
       "dict_keys([583836069, 565871768, 605889373])"
      ]
     },
     "execution_count": 16,
     "metadata": {},
     "output_type": "execute_result"
    }
   ],
   "source": [
    "data = load_data(with_zero=True)\n",
    "data.keys()"
   ]
  },
  {
   "cell_type": "code",
   "execution_count": 17,
   "id": "147ddc61",
   "metadata": {},
   "outputs": [
    {
     "name": "stdout",
     "output_type": "stream",
     "text": [
      "583836069\n",
      "{'Short Square': 9, 'Long Square': 22, 'Ramp': 2, 'Noise 1': 3, 'Noise 2': 4, 'Square - 0.5ms Subthreshold': 10, 'Test': 1}\n",
      "565871768\n",
      "{'Short Square': 13, 'Long Square': 36, 'Ramp': 1, 'Noise 2': 4, 'Noise 1': 2, 'Square - 0.5ms Subthreshold': 10, 'Square - 2s Suprathreshold': 12, 'Test': 1}\n",
      "605889373\n",
      "{'Short Square': 17, 'Long Square': 37, 'Ramp': 3, 'Noise 1': 3, 'Noise 2': 3, 'Square - 0.5ms Subthreshold': 10, 'Test': 1}\n"
     ]
    }
   ],
   "source": [
    "for cell_id in data:\n",
    "    print(cell_id)\n",
    "    counts = {}\n",
    "    for sweep in data[cell_id][:-1]:\n",
    "        stim_name = sweep[\"stimulus_name\"]\n",
    "        if stim_name not in counts:\n",
    "            counts[stim_name] = 0\n",
    "        counts[stim_name] += 1\n",
    "    print(counts)"
   ]
  },
  {
   "cell_type": "code",
   "execution_count": 18,
   "id": "51bdf93d",
   "metadata": {},
   "outputs": [
    {
     "name": "stdout",
     "output_type": "stream",
     "text": [
      "cell_id=565871768, bin_size=20, k=8, l=0\n",
      "Epoch 10 / Loss: 3112.0475042249295\n",
      "Epoch 20 / Loss: 3114.022049478847\n",
      "Epoch 30 / Loss: 3080.6556921864194\n",
      "Epoch 40 / Loss: 3079.5195633023336\n",
      "Epoch 50 / Loss: 3092.8171028244124\n",
      "Epoch 60 / Loss: 3096.632309150543\n",
      "Epoch 70 / Loss: 1906.2244903123826\n",
      "Epoch 80 / Loss: 3077.8277327267997\n",
      "Epoch 90 / Loss: 2337.8224507484942\n",
      "Epoch 100 / Loss: 962.6774030310279\n",
      "[-1.4619816541671753, -0.8456491231918335, -0.6440469026565552, -1.314702033996582, 0.0495331771671772, 1.1349689960479736, 0.09044358134269714, 1.6839436292648315] []\n",
      "cell_id=565871768, bin_size=20, k=8, l=1\n",
      "Epoch 10 / Loss: 3095.415077450862\n",
      "Epoch 20 / Loss: 3092.923970682137\n",
      "Epoch 30 / Loss: 3046.684546763359\n",
      "Epoch 40 / Loss: 3019.07139769128\n",
      "Epoch 50 / Loss: 2979.8659706636627\n",
      "Epoch 60 / Loss: 2941.774903518063\n",
      "Epoch 70 / Loss: 2759.2874977112574\n",
      "Epoch 80 / Loss: 1077.4973709262522\n",
      "Epoch 90 / Loss: 2636.359562307517\n",
      "Epoch 100 / Loss: 2959.313719865391\n",
      "[-4.707728385925293, -0.4153035283088684, 0.09430450201034546, 0.901073157787323, -0.6113643050193787, 0.862586259841919, -1.0969407558441162, 1.2616901397705078] [92.75061798095703]\n",
      "cell_id=565871768, bin_size=20, k=9, l=0\n",
      "Epoch 10 / Loss: 2033.0624301741989\n",
      "Epoch 20 / Loss: 1230.0127489519252\n",
      "Epoch 30 / Loss: 740.5312562407846\n",
      "Epoch 40 / Loss: 3187.04007248105\n",
      "Epoch 50 / Loss: 2928.6131048390207\n",
      "Epoch 60 / Loss: 552.8245554007009\n",
      "Epoch 70 / Loss: 1051.186025633697\n"
     ]
    },
    {
     "ename": "KeyboardInterrupt",
     "evalue": "",
     "output_type": "error",
     "traceback": [
      "\u001b[0;31m---------------------------------------------------------------------------\u001b[0m",
      "\u001b[0;31mKeyboardInterrupt\u001b[0m                         Traceback (most recent call last)",
      "Cell \u001b[0;32mIn[18], line 29\u001b[0m\n\u001b[1;32m     27\u001b[0m         a \u001b[38;5;241m=\u001b[39m params[cell_id][bin_size][(k, l\u001b[38;5;241m-\u001b[39m\u001b[38;5;241m1\u001b[39m)][\u001b[38;5;124m\"\u001b[39m\u001b[38;5;124ma\u001b[39m\u001b[38;5;124m\"\u001b[39m]\u001b[38;5;241m.\u001b[39mclone()\n\u001b[1;32m     28\u001b[0m         b \u001b[38;5;241m=\u001b[39m torch\u001b[38;5;241m.\u001b[39mcat((torch\u001b[38;5;241m.\u001b[39mtensor([\u001b[38;5;241m0.0\u001b[39m]), params[cell_id][bin_size][(k, l\u001b[38;5;241m-\u001b[39m\u001b[38;5;241m1\u001b[39m)][\u001b[38;5;124m\"\u001b[39m\u001b[38;5;124mb\u001b[39m\u001b[38;5;124m\"\u001b[39m]\u001b[38;5;241m.\u001b[39mclone()))\n\u001b[0;32m---> 29\u001b[0m model \u001b[38;5;241m=\u001b[39m \u001b[43mtrain\u001b[49m\u001b[43m(\u001b[49m\u001b[43mcell_id\u001b[49m\u001b[43m,\u001b[49m\u001b[43m \u001b[49m\u001b[43mbin_size\u001b[49m\u001b[43m,\u001b[49m\u001b[43m \u001b[49m\u001b[43mk\u001b[49m\u001b[43m,\u001b[49m\u001b[43m \u001b[49m\u001b[43ml\u001b[49m\u001b[43m,\u001b[49m\u001b[43m \u001b[49m\u001b[38;5;124;43m\"\u001b[39;49m\u001b[38;5;124;43mpoisson\u001b[39;49m\u001b[38;5;124;43m\"\u001b[39;49m\u001b[43m,\u001b[49m\u001b[43m \u001b[49m\u001b[43msave\u001b[49m\u001b[38;5;241;43m=\u001b[39;49m\u001b[38;5;28;43;01mTrue\u001b[39;49;00m\u001b[43m,\u001b[49m\u001b[43m \u001b[49m\u001b[43ma\u001b[49m\u001b[38;5;241;43m=\u001b[39;49m\u001b[43ma\u001b[49m\u001b[43m,\u001b[49m\u001b[43m \u001b[49m\u001b[43mb\u001b[49m\u001b[38;5;241;43m=\u001b[39;49m\u001b[43mb\u001b[49m\u001b[43m)\u001b[49m\n\u001b[1;32m     31\u001b[0m \u001b[38;5;28;01mif\u001b[39;00m cell_id \u001b[38;5;129;01mnot\u001b[39;00m \u001b[38;5;129;01min\u001b[39;00m params:\n\u001b[1;32m     32\u001b[0m     params[cell_id] \u001b[38;5;241m=\u001b[39m {}\n",
      "Cell \u001b[0;32mIn[15], line 36\u001b[0m, in \u001b[0;36mtrain\u001b[0;34m(cell_id, bin_size, k, l, loss_fn, save, a, b)\u001b[0m\n\u001b[1;32m     34\u001b[0m epochs \u001b[38;5;241m=\u001b[39m \u001b[38;5;241m1\u001b[39m \u001b[38;5;28;01mif\u001b[39;00m k \u001b[38;5;241m==\u001b[39m \u001b[38;5;241m0\u001b[39m \u001b[38;5;129;01mand\u001b[39;00m l \u001b[38;5;241m==\u001b[39m \u001b[38;5;241m0\u001b[39m \u001b[38;5;28;01melse\u001b[39;00m \u001b[38;5;241m100\u001b[39m\n\u001b[1;32m     35\u001b[0m print_every \u001b[38;5;241m=\u001b[39m \u001b[38;5;241m1\u001b[39m \u001b[38;5;28;01mif\u001b[39;00m k \u001b[38;5;241m==\u001b[39m \u001b[38;5;241m0\u001b[39m \u001b[38;5;129;01mand\u001b[39;00m l \u001b[38;5;241m==\u001b[39m \u001b[38;5;241m0\u001b[39m \u001b[38;5;28;01melse\u001b[39;00m \u001b[38;5;241m10\u001b[39m\n\u001b[0;32m---> 36\u001b[0m losses \u001b[38;5;241m=\u001b[39m \u001b[43mtrain_model\u001b[49m\u001b[43m(\u001b[49m\n\u001b[1;32m     37\u001b[0m \u001b[43m    \u001b[49m\u001b[43mmodel\u001b[49m\u001b[43m,\u001b[49m\u001b[43m \u001b[49m\n\u001b[1;32m     38\u001b[0m \u001b[43m    \u001b[49m\u001b[43mcriterion\u001b[49m\u001b[43m,\u001b[49m\u001b[43m \u001b[49m\n\u001b[1;32m     39\u001b[0m \u001b[43m    \u001b[49m\u001b[43moptimizer\u001b[49m\u001b[43m,\u001b[49m\n\u001b[1;32m     40\u001b[0m \u001b[43m    \u001b[49m\u001b[43mIs_tr\u001b[49m\u001b[43m,\u001b[49m\n\u001b[1;32m     41\u001b[0m \u001b[43m    \u001b[49m\u001b[43mfs_tr\u001b[49m\u001b[43m,\u001b[49m\n\u001b[1;32m     42\u001b[0m \u001b[43m    \u001b[49m\u001b[43mepochs\u001b[49m\u001b[43m \u001b[49m\u001b[38;5;241;43m=\u001b[39;49m\u001b[43m \u001b[49m\u001b[43mepochs\u001b[49m\u001b[43m,\u001b[49m\n\u001b[1;32m     43\u001b[0m \u001b[43m    \u001b[49m\u001b[43mprint_every\u001b[49m\u001b[43m \u001b[49m\u001b[38;5;241;43m=\u001b[39;49m\u001b[43m \u001b[49m\u001b[43mprint_every\u001b[49m\u001b[43m,\u001b[49m\n\u001b[1;32m     44\u001b[0m \u001b[43m    \u001b[49m\u001b[43mloss_fn\u001b[49m\u001b[43m \u001b[49m\u001b[38;5;241;43m=\u001b[39;49m\u001b[43m \u001b[49m\u001b[43mloss_fn\u001b[49m\u001b[43m,\u001b[49m\n\u001b[1;32m     45\u001b[0m \u001b[43m    \u001b[49m\u001b[43mbin_size\u001b[49m\u001b[43m \u001b[49m\u001b[38;5;241;43m=\u001b[39;49m\u001b[43m \u001b[49m\u001b[43mbin_size\u001b[49m\u001b[43m,\u001b[49m\n\u001b[1;32m     46\u001b[0m \u001b[43m    \u001b[49m\u001b[43mup_factor\u001b[49m\u001b[43m \u001b[49m\u001b[38;5;241;43m=\u001b[39;49m\u001b[43m \u001b[49m\u001b[38;5;241;43m5\u001b[39;49m\u001b[43m,\u001b[49m\n\u001b[1;32m     47\u001b[0m \u001b[43m    \u001b[49m\u001b[43mws\u001b[49m\u001b[43m \u001b[49m\u001b[38;5;241;43m=\u001b[39;49m\u001b[43m \u001b[49m\u001b[43mws\u001b[49m\n\u001b[1;32m     48\u001b[0m \u001b[43m\u001b[49m\u001b[43m)\u001b[49m\n\u001b[1;32m     50\u001b[0m \u001b[38;5;28;01mfor\u001b[39;00m i \u001b[38;5;129;01min\u001b[39;00m \u001b[38;5;28mrange\u001b[39m(\u001b[38;5;28mlen\u001b[39m(Is_tr)):\n\u001b[1;32m     51\u001b[0m     \u001b[38;5;28;01mif\u001b[39;00m \u001b[38;5;129;01mnot\u001b[39;00m torch\u001b[38;5;241m.\u001b[39mall(fs_tr[i] \u001b[38;5;241m<\u001b[39m\u001b[38;5;241m=\u001b[39m \u001b[38;5;241m0.01\u001b[39m):\n",
      "File \u001b[0;32m~/Documents/GitHub/GRNN/model.py:167\u001b[0m, in \u001b[0;36mtrain_model\u001b[0;34m(model, criterion, optimizer, Is_tr, fs_tr, epochs, print_every, loss_fn, bin_size, up_factor, ws)\u001b[0m\n\u001b[1;32m    165\u001b[0m \u001b[38;5;66;03m#print(pred_fs, fs, model.b)\u001b[39;00m\n\u001b[1;32m    166\u001b[0m f \u001b[38;5;241m=\u001b[39m model(currs, fs)\n\u001b[0;32m--> 167\u001b[0m pred_fs \u001b[38;5;241m=\u001b[39m \u001b[43mtorch\u001b[49m\u001b[38;5;241;43m.\u001b[39;49m\u001b[43mcat\u001b[49m\u001b[43m(\u001b[49m\u001b[43m(\u001b[49m\u001b[43mpred_fs\u001b[49m\u001b[43m,\u001b[49m\u001b[43m \u001b[49m\u001b[43mf\u001b[49m\u001b[38;5;241;43m.\u001b[39;49m\u001b[43mreshape\u001b[49m\u001b[43m(\u001b[49m\u001b[38;5;241;43m1\u001b[39;49m\u001b[43m)\u001b[49m\u001b[43m)\u001b[49m\u001b[43m)\u001b[49m\n\u001b[1;32m    169\u001b[0m \u001b[38;5;28;01mif\u001b[39;00m loss_fn \u001b[38;5;241m==\u001b[39m \u001b[38;5;124m\"\u001b[39m\u001b[38;5;124mpoisson\u001b[39m\u001b[38;5;124m\"\u001b[39m:\n\u001b[1;32m    170\u001b[0m     loss \u001b[38;5;241m+\u001b[39m\u001b[38;5;241m=\u001b[39m m \u001b[38;5;241m*\u001b[39m criterion(f \u001b[38;5;241m*\u001b[39m bin_size, firing_rates[i] \u001b[38;5;241m*\u001b[39m bin_size)\n",
      "\u001b[0;31mKeyboardInterrupt\u001b[0m: "
     ]
    }
   ],
   "source": [
    "def exists(params, cell_id, bin_size, k, l):\n",
    "    return cell_id in params and bin_size in params[cell_id] and (k, l) in params[cell_id][bin_size]\n",
    "\n",
    "try:\n",
    "    with open(\"model/params.pickle\", \"rb\") as file:\n",
    "        params = pickle.load(file)\n",
    "except:\n",
    "    print(\"No pre-existing params to load. New file created.\")\n",
    "    params = {}\n",
    "    \n",
    "use_prev = False\n",
    "for cell_id in [565871768]:\n",
    "    for bin_size in [20]:\n",
    "        for k in range(8, 15):\n",
    "            for l in [0, 1]:\n",
    "                print(f\"cell_id={cell_id}, bin_size={bin_size}, k={k}, l={l}\")\n",
    "                if exists(params, cell_id, bin_size, k, l):\n",
    "                    print(\"Skipped\")\n",
    "                else:\n",
    "                    a, b = None, None\n",
    "                    \n",
    "                    if use_prev:\n",
    "                        if exists(params, cell_id, bin_size, k-1, l):\n",
    "                            a = torch.cat((torch.tensor([0.0]), params[cell_id][bin_size][(k-1, l)][\"a\"].clone()))\n",
    "                            b = params[cell_id][bin_size][(k-1, l)][\"b\"].clone()\n",
    "                        elif exists(params, cell_id, bin_size, k, l-1):\n",
    "                            a = params[cell_id][bin_size][(k, l-1)][\"a\"].clone()\n",
    "                            b = torch.cat((torch.tensor([0.0]), params[cell_id][bin_size][(k, l-1)][\"b\"].clone()))\n",
    "                    model = train(cell_id, bin_size, k, l, \"poisson\", save=True, a=a, b=b)\n",
    "\n",
    "                    if cell_id not in params:\n",
    "                        params[cell_id] = {}\n",
    "                    if bin_size not in params[cell_id]:\n",
    "                        params[cell_id][bin_size] = {}\n",
    "                    params[cell_id][bin_size][(k, l)] = model.get_params()\n",
    "                    print(model.a.tolist(), model.b.tolist())\n",
    "\n",
    "                    with open('model/params.pickle', 'wb') as handle:\n",
    "                        pickle.dump(params, handle, protocol=pickle.HIGHEST_PROTOCOL)"
   ]
  },
  {
   "cell_type": "code",
   "execution_count": null,
   "id": "40b0a62d",
   "metadata": {},
   "outputs": [],
   "source": []
  }
 ],
 "metadata": {
  "kernelspec": {
   "display_name": "Python 3 (ipykernel)",
   "language": "python",
   "name": "python3"
  },
  "language_info": {
   "codemirror_mode": {
    "name": "ipython",
    "version": 3
   },
   "file_extension": ".py",
   "mimetype": "text/x-python",
   "name": "python",
   "nbconvert_exporter": "python",
   "pygments_lexer": "ipython3",
   "version": "3.10.11"
  }
 },
 "nbformat": 4,
 "nbformat_minor": 5
}
