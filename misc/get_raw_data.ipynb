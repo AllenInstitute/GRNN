{
 "cells": [
  {
   "cell_type": "code",
   "execution_count": 1,
   "id": "a918a149-6c72-4138-ab0a-cd8fc1bc1274",
   "metadata": {},
   "outputs": [
    {
     "ename": "ModuleNotFoundError",
     "evalue": "No module named 'allensdk'",
     "output_type": "error",
     "traceback": [
      "\u001b[0;31m---------------------------------------------------------------------------\u001b[0m",
      "\u001b[0;31mModuleNotFoundError\u001b[0m                       Traceback (most recent call last)",
      "Cell \u001b[0;32mIn[1], line 9\u001b[0m\n\u001b[1;32m      5\u001b[0m \u001b[38;5;28;01mimport\u001b[39;00m \u001b[38;5;21;01mrequests\u001b[39;00m\n\u001b[1;32m      7\u001b[0m \u001b[38;5;28;01mfrom\u001b[39;00m \u001b[38;5;21;01mrandom\u001b[39;00m \u001b[38;5;28;01mimport\u001b[39;00m choice, shuffle\n\u001b[0;32m----> 9\u001b[0m \u001b[38;5;28;01mfrom\u001b[39;00m \u001b[38;5;21;01mallensdk\u001b[39;00m\u001b[38;5;21;01m.\u001b[39;00m\u001b[38;5;21;01mcore\u001b[39;00m\u001b[38;5;21;01m.\u001b[39;00m\u001b[38;5;21;01mcell_types_cache\u001b[39;00m \u001b[38;5;28;01mimport\u001b[39;00m CellTypesCache\n\u001b[1;32m     10\u001b[0m \u001b[38;5;28;01mfrom\u001b[39;00m \u001b[38;5;21;01mallensdk\u001b[39;00m\u001b[38;5;21;01m.\u001b[39;00m\u001b[38;5;21;01mapi\u001b[39;00m\u001b[38;5;21;01m.\u001b[39;00m\u001b[38;5;21;01mqueries\u001b[39;00m\u001b[38;5;21;01m.\u001b[39;00m\u001b[38;5;21;01mcell_types_api\u001b[39;00m \u001b[38;5;28;01mimport\u001b[39;00m CellTypesApi\n\u001b[1;32m     11\u001b[0m \u001b[38;5;28;01mfrom\u001b[39;00m \u001b[38;5;21;01mallensdk\u001b[39;00m\u001b[38;5;21;01m.\u001b[39;00m\u001b[38;5;21;01mapi\u001b[39;00m\u001b[38;5;21;01m.\u001b[39;00m\u001b[38;5;21;01mqueries\u001b[39;00m\u001b[38;5;21;01m.\u001b[39;00m\u001b[38;5;21;01mglif_api\u001b[39;00m \u001b[38;5;28;01mimport\u001b[39;00m GlifApi\n",
      "\u001b[0;31mModuleNotFoundError\u001b[0m: No module named 'allensdk'"
     ]
    }
   ],
   "source": [
    "import warnings\n",
    "from typing import Union, Tuple\n",
    "from collections import defaultdict\n",
    "\n",
    "import requests\n",
    "\n",
    "from random import choice, shuffle\n",
    "\n",
    "from allensdk.core.cell_types_cache import CellTypesCache\n",
    "from allensdk.api.queries.cell_types_api import CellTypesApi\n",
    "from allensdk.api.queries.glif_api import GlifApi\n",
    "\n",
    "import pickle\n",
    "import os, random\n",
    "import numpy as np\n",
    "import matplotlib.pyplot as plt\n",
    "\n",
    "ctc = CellTypesCache(manifest_file='../cell_types/manifest.json')\n",
    "\n",
    "random.seed(0, version=2)\n",
    "\n",
    "\n",
    "\n",
    "def obtain_spike_time_and_current_and_voltage(cell_id = 324257146):\n",
    "    try:\n",
    "        raw_data = ctc.get_ephys_data(cell_id)\n",
    "        sweep_numbers = raw_data.get_sweep_numbers()\n",
    "    except:\n",
    "        print('can not download data...')\n",
    "    data_set = []\n",
    "    for sweep_id in sweep_numbers:\n",
    "        sweep_data = {}\n",
    "        #print('processing sweep with sweep id = '+ str(sweep_id))\n",
    "        \n",
    "        stimulus_name = raw_data.get_sweep_metadata(sweep_id)['aibs_stimulus_name'].decode()\n",
    "        sweep_data['stimulus_name'] = stimulus_name\n",
    "        \n",
    "        sampling_rate = raw_data.get_sweep(sweep_id)['sampling_rate']\n",
    "        sweep_data['sampling_rate'] = sampling_rate\n",
    "        \n",
    "        # start/stop indices that exclude the experimental test pulse (if applicable)\n",
    "        index_range = raw_data.get_sweep(sweep_id)['index_range']\n",
    "        \n",
    "        I = 1E12*raw_data.get_sweep(sweep_id)['stimulus']\n",
    "        V = 1E3*raw_data.get_sweep(sweep_id)['response']\n",
    "        spike_times = raw_data.get_spike_times(sweep_id)\n",
    "        \n",
    "        #make sure index_range[1] is corrected for ramp:\n",
    "        if stimulus_name == 'Ramp':\n",
    "            max_I_idx = np.argmax(I) if np.argmax(I) > index_range[0] else None\n",
    "            voltage_dies_at = np.max(np.nonzero(V))\n",
    "            index_range_1 = min(index_range[1],voltage_dies_at)\n",
    "            if max_I_idx is not None:\n",
    "                index_range_1 = min(index_range_1,max_I_idx)\n",
    "\n",
    "            index_range_0 = index_range[0]\n",
    "            index_range = (index_range_0,index_range_1)\n",
    "        sweep_data['index_range'] = index_range\n",
    "        \n",
    "        sweep_data['current'] = I\n",
    "        sweep_data['spike_times'] = spike_times\n",
    "        sweep_data['voltage'] = V\n",
    "        \n",
    "        data_set.append(sweep_data)\n",
    "\n",
    "\n",
    "    with open('Calvin_raw_data/raw_data_'+str(cell_id)+'.pickle', 'wb') as handle:\n",
    "        pickle.dump(data_set, handle, protocol=pickle.HIGHEST_PROTOCOL)\n",
    "    return data_set\n"
   ]
  },
  {
   "cell_type": "code",
   "execution_count": null,
   "id": "096d0e52-c8e3-4119-b850-2d7bde229663",
   "metadata": {},
   "outputs": [],
   "source": [
    "for cell_id in [x['id'] for x in ctc.get_cells(species=[CellTypesApi.MOUSE])]:\n",
    "    if os.path.isfile('Calvin_raw_data/raw_data_'+str(cell_id)+'.pickle'):\n",
    "        pass\n",
    "    else: \n",
    "        try:\n",
    "            data_set=obtain_spike_time_and_current_and_voltage(cell_id = cell_id)\n",
    "        except:\n",
    "            print('unprocessed cell: ' + str(cell_id))"
   ]
  }
 ],
 "metadata": {
  "kernelspec": {
   "display_name": "Python 3 (ipykernel)",
   "language": "python",
   "name": "python3"
  },
  "language_info": {
   "codemirror_mode": {
    "name": "ipython",
    "version": 3
   },
   "file_extension": ".py",
   "mimetype": "text/x-python",
   "name": "python",
   "nbconvert_exporter": "python",
   "pygments_lexer": "ipython3",
   "version": "3.10.10"
  }
 },
 "nbformat": 4,
 "nbformat_minor": 5
}
