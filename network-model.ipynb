{
 "cells": [
  {
   "cell_type": "code",
   "execution_count": null,
   "id": "be2019eb",
   "metadata": {},
   "outputs": [],
   "source": [
    "import torch\n",
    "\n",
    "from network import Network\n",
    "from data import get_MNIST_data_loaders\n",
    "from train import train_network\n",
    "from evaluate import accuracy"
   ]
  },
  {
   "cell_type": "code",
   "execution_count": null,
   "id": "e7d1f3fa",
   "metadata": {
    "scrolled": true
   },
   "outputs": [],
   "source": [
    "device = torch.device(\"cuda\" if torch.cuda.is_available() else \"cpu\")\n",
    "print(f\"{device=}\")\n",
    "\n",
    "variant = \"l\"\n",
    "in_dim = 1 if variant == \"p\" else 28\n",
    "hidden_dim = 64\n",
    "out_dim = 10\n",
    "batch_size = 256\n",
    "\n",
    "train_loader, test_loader = get_MNIST_data_loaders(batch_size, variant=variant)\n",
    "model = Network(\n",
    "    in_dim, \n",
    "    hidden_dim, \n",
    "    out_dim, \n",
    "    neuron_type=\"ekfr\", \n",
    "    freeze_neurons=False, \n",
    "    freeze_g=True\n",
    ")"
   ]
  },
  {
   "cell_type": "code",
   "execution_count": null,
   "id": "6100eb17",
   "metadata": {},
   "outputs": [],
   "source": [
    "train_network(\n",
    "    model, \n",
    "    train_loader, \n",
    "    epochs=30, \n",
    "    lr=0.05, \n",
    "    variant=variant,\n",
    "    C=0\n",
    ")"
   ]
  },
  {
   "cell_type": "code",
   "execution_count": null,
   "id": "9a22ffa0",
   "metadata": {},
   "outputs": [],
   "source": [
    "train_acc = accuracy(model, train_loader, variant=variant, device=device)\n",
    "test_acc = accuracy(model, test_loader, variant=variant, device=device)\n",
    "print(f\"Train accuracy: {train_acc} | Test accuracy: {test_acc}\")"
   ]
  },
  {
   "cell_type": "code",
   "execution_count": null,
   "id": "19566973",
   "metadata": {},
   "outputs": [],
   "source": [
    "def load_network(fname):\n",
    "    state = torch.load(fname)\n",
    "    model = Network(\n",
    "        1 if state[\"variant\"] == \"p\" else 28, \n",
    "        state[\"hidden_dim\"], \n",
    "        10, \n",
    "        neuron_type=state[\"neuron_type\"], \n",
    "        freeze_neurons=state[\"freeze_neurons\"], \n",
    "        freeze_g=state[\"freeze_activations\"]\n",
    "    )\n",
    "    model.load_state_dict(state[\"model_state_dict\"])\n",
    "    return model"
   ]
  },
  {
   "cell_type": "code",
   "execution_count": null,
   "id": "47e3ddc9",
   "metadata": {},
   "outputs": [],
   "source": [
    "model = load_network(\"model/network_params/l_ekfr_64_True_True.pt\")"
   ]
  },
  {
   "cell_type": "code",
   "execution_count": null,
   "id": "617a13e0",
   "metadata": {},
   "outputs": [],
   "source": [
    "import matplotlib.pyplot as plt\n",
    "\n",
    "xs = torch.linspace(0, 20, 100)\n",
    "xss = torch.stack([xs for _ in range(hidden_dim)], dim=1)\n",
    "ys_a = torch.stack([model.hidden_neurons.kernel(x, var=\"a\") for x in xs]).detach()\n",
    "ys_b = torch.stack([model.hidden_neurons.kernel(x, var=\"b\") for x in xs]).detach()\n",
    "\n",
    "plt.figure()\n",
    "plt.plot(xss, ys_a, alpha=0.5)\n",
    "\n",
    "plt.figure()\n",
    "plt.plot(xss, ys_b, alpha=0.5);"
   ]
  },
  {
   "cell_type": "code",
   "execution_count": null,
   "id": "d93c8c86",
   "metadata": {},
   "outputs": [],
   "source": [
    "import torch\n",
    "torch.load(\"model/network_params/l_ekfr_128_True_True.pt\")"
   ]
  },
  {
   "cell_type": "code",
   "execution_count": 5,
   "id": "f638276f",
   "metadata": {},
   "outputs": [],
   "source": [
    "import torch\n",
    "import torch.nn.functional as F"
   ]
  },
  {
   "cell_type": "code",
   "execution_count": null,
   "id": "632539d7",
   "metadata": {},
   "outputs": [],
   "source": [
    "def train_model(\n",
    "    model,\n",
    "    criterion,\n",
    "    optimizer,\n",
    "    Is_tr,\n",
    "    fs_tr,\n",
    "    epochs: int = 100,\n",
    "    print_every: int = 10,\n",
    "    bin_size = 20,\n",
    "    up_factor = 10,\n",
    "    scheduler = None\n",
    "):\n",
    "    losses = []\n",
    "\n",
    "    for epoch in range(epochs):\n",
    "        total_loss = 0\n",
    "        for Is, fs in zip(Is_tr, fs_tr):\n",
    "            batch_size = Is.shape[0]\n",
    "            loss = torch.zeros(batch_size).to(model.device)\n",
    "            model.reset(batch_size)\n",
    "            \n",
    "            for i in range(Is.shape[1]):\n",
    "                f = model(Is[:, i])\n",
    "                \n",
    "                # up-weight loss for non-zero firing rate\n",
    "                alpha = torch.ones(batch_size).to(model.device)\n",
    "                alpha[torch.logical_or(fs[:, i] > 0, f > 0)] = up_factor\n",
    "                loss += alpha * criterion(f * bin_size, fs[:, i] * bin_size)\n",
    "            \n",
    "            mean_loss = torch.mean(loss)\n",
    "            optimizer.zero_grad()\n",
    "            mean_loss.backward(retain_graph=True)\n",
    "            optimizer.step()\n",
    "\n",
    "            total_loss += mean_loss.item()\n",
    "        losses.append(total_loss)\n",
    "\n",
    "        if scheduler is not None:\n",
    "            scheduler.step()\n",
    "        \n",
    "        if (epoch+1) % print_every == 0:\n",
    "            if scheduler is None:\n",
    "                print(f\"Epoch {epoch+1} | Loss: {total_loss}\")\n",
    "            else:\n",
    "                curr_lr = scheduler.get_last_lr()\n",
    "                print(f\"Epoch {epoch+1} | Loss: {total_loss} | lr: {curr_lr}\")\n",
    "\n",
    "        if len(losses) >= 3 and losses[-1] == losses[-2] == losses[-3]:\n",
    "            return losses\n",
    "        \n",
    "    return losses"
   ]
  },
  {
   "cell_type": "code",
   "execution_count": 7,
   "id": "c2a43f46",
   "metadata": {},
   "outputs": [],
   "source": [
    "g = PolynomialActivation(1, 100, 100, 20)\n",
    "model = ExponentialKernelFiringRateModel(g, torch.tensor([1, 2, 3, 4, 5]).to(torch.float32), 20)"
   ]
  },
  {
   "cell_type": "code",
   "execution_count": null,
   "id": "cf05729a",
   "metadata": {},
   "outputs": [],
   "source": []
  }
 ],
 "metadata": {
  "kernelspec": {
   "display_name": "Python 3 (ipykernel)",
   "language": "python",
   "name": "python3"
  },
  "language_info": {
   "codemirror_mode": {
    "name": "ipython",
    "version": 3
   },
   "file_extension": ".py",
   "mimetype": "text/x-python",
   "name": "python",
   "nbconvert_exporter": "python",
   "pygments_lexer": "ipython3",
   "version": "3.10.11"
  }
 },
 "nbformat": 4,
 "nbformat_minor": 5
}
