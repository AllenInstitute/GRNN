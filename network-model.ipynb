{
 "cells": [
  {
   "cell_type": "code",
   "execution_count": 1,
   "id": "be2019eb",
   "metadata": {},
   "outputs": [],
   "source": [
    "from network import Network\n",
    "from data import get_MNIST_data_loaders\n",
    "from train import train_network\n",
    "from evaluate import accuracy"
   ]
  },
  {
   "cell_type": "code",
   "execution_count": 2,
   "id": "e7d1f3fa",
   "metadata": {
    "scrolled": true
   },
   "outputs": [],
   "source": [
    "batch_size = 256\n",
    "variant = \"l\"\n",
    "in_dim = 1 if variant == \"p\" else 28\n",
    "out_dim = 10\n",
    "hidden_dim = 128\n",
    "epochs = 30\n",
    "train_loader, test_loader = get_MNIST_data_loaders(batch_size)\n",
    "model = Network(in_dim, hidden_dim, out_dim, neuron_type=\"ekfr\", freeze_neurons=False)"
   ]
  },
  {
   "cell_type": "code",
   "execution_count": 17,
   "id": "23cb7ee1",
   "metadata": {
    "scrolled": true
   },
   "outputs": [
    {
     "name": "stdout",
     "output_type": "stream",
     "text": [
      "Epoch 1 / Loss: 38.18993377685547\n",
      "Epoch 2 / Loss: 38.14249038696289\n",
      "Epoch 3 / Loss: 37.90032196044922\n",
      "Epoch 4 / Loss: 37.763763427734375\n",
      "Epoch 5 / Loss: 37.92814636230469\n"
     ]
    }
   ],
   "source": [
    "train_network(model, train_loader, 5, lr=0.0005, variant=variant)"
   ]
  },
  {
   "cell_type": "code",
   "execution_count": 18,
   "id": "76d3596d",
   "metadata": {},
   "outputs": [
    {
     "name": "stdout",
     "output_type": "stream",
     "text": [
      "Train accuracy: 0.9560666680335999 / Test accuracy: 0.9524000287055969\n"
     ]
    }
   ],
   "source": [
    "train_acc = accuracy(model, train_loader, variant=variant)\n",
    "test_acc = accuracy(model, test_loader, variant=variant)\n",
    "print(f\"Train accuracy: {train_acc} / Test accuracy: {test_acc}\")"
   ]
  },
  {
   "cell_type": "code",
   "execution_count": null,
   "id": "cabcc7ea",
   "metadata": {},
   "outputs": [],
   "source": []
  }
 ],
 "metadata": {
  "kernelspec": {
   "display_name": "Python 3 (ipykernel)",
   "language": "python",
   "name": "python3"
  },
  "language_info": {
   "codemirror_mode": {
    "name": "ipython",
    "version": 3
   },
   "file_extension": ".py",
   "mimetype": "text/x-python",
   "name": "python",
   "nbconvert_exporter": "python",
   "pygments_lexer": "ipython3",
   "version": "3.10.11"
  }
 },
 "nbformat": 4,
 "nbformat_minor": 5
}
