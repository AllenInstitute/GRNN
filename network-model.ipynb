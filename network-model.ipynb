{
 "cells": [
  {
   "cell_type": "code",
   "execution_count": 1,
   "id": "be2019eb",
   "metadata": {},
   "outputs": [],
   "source": [
    "import torch\n",
    "\n",
    "from network import Network\n",
    "from data import get_MNIST_data_loaders\n",
    "from train import train_network\n",
    "from evaluate import accuracy"
   ]
  },
  {
   "cell_type": "code",
   "execution_count": null,
   "id": "e7d1f3fa",
   "metadata": {
    "scrolled": true
   },
   "outputs": [
    {
     "name": "stdout",
     "output_type": "stream",
     "text": [
      "device=device(type='cpu')\n"
     ]
    },
    {
     "name": "stderr",
     "output_type": "stream",
     "text": [
      "100%|█████████████████████████████████████████| 235/235 [02:41<00:00,  1.46it/s]\n"
     ]
    },
    {
     "name": "stdout",
     "output_type": "stream",
     "text": [
      "Epoch 1 | Loss: 539.6539916992188\n"
     ]
    },
    {
     "name": "stderr",
     "output_type": "stream",
     "text": [
      "100%|█████████████████████████████████████████| 235/235 [02:05<00:00,  1.88it/s]\n"
     ]
    },
    {
     "name": "stdout",
     "output_type": "stream",
     "text": [
      "Epoch 2 | Loss: 514.1881713867188\n"
     ]
    },
    {
     "name": "stderr",
     "output_type": "stream",
     "text": [
      "100%|█████████████████████████████████████████| 235/235 [02:08<00:00,  1.82it/s]\n"
     ]
    },
    {
     "name": "stdout",
     "output_type": "stream",
     "text": [
      "Epoch 3 | Loss: 478.0890197753906\n"
     ]
    },
    {
     "name": "stderr",
     "output_type": "stream",
     "text": [
      "100%|█████████████████████████████████████████| 235/235 [02:08<00:00,  1.83it/s]\n"
     ]
    },
    {
     "name": "stdout",
     "output_type": "stream",
     "text": [
      "Epoch 4 | Loss: 460.45770263671875\n"
     ]
    },
    {
     "name": "stderr",
     "output_type": "stream",
     "text": [
      "100%|█████████████████████████████████████████| 235/235 [02:09<00:00,  1.81it/s]\n"
     ]
    },
    {
     "name": "stdout",
     "output_type": "stream",
     "text": [
      "Epoch 5 | Loss: 439.1002502441406\n"
     ]
    },
    {
     "name": "stderr",
     "output_type": "stream",
     "text": [
      "100%|█████████████████████████████████████████| 235/235 [02:08<00:00,  1.83it/s]\n"
     ]
    },
    {
     "name": "stdout",
     "output_type": "stream",
     "text": [
      "Epoch 6 | Loss: 430.1212158203125\n"
     ]
    },
    {
     "name": "stderr",
     "output_type": "stream",
     "text": [
      "100%|█████████████████████████████████████████| 235/235 [02:09<00:00,  1.82it/s]\n"
     ]
    },
    {
     "name": "stdout",
     "output_type": "stream",
     "text": [
      "Epoch 7 | Loss: 420.11090087890625\n"
     ]
    }
   ],
   "source": [
    "device = torch.device(\"gpu\" if torch.cuda.is_available() else \"cpu\")\n",
    "print(f\"{device=}\")\n",
    "\n",
    "variant = \"p\"\n",
    "in_dim = 1 if variant == \"p\" else 28\n",
    "hidden_dim = 8\n",
    "out_dim = 10\n",
    "batch_size = 256\n",
    "\n",
    "train_loader, test_loader = get_MNIST_data_loaders(batch_size, variant=variant)\n",
    "model = Network(\n",
    "    in_dim, \n",
    "    hidden_dim, \n",
    "    out_dim, \n",
    "    neuron_type=\"ekfr\", \n",
    "    freeze_neurons=False, \n",
    "    freeze_g=True\n",
    ")\n",
    "\n",
    "train_network(\n",
    "    model, \n",
    "    train_loader, \n",
    "    epochs=30, \n",
    "    lr=0.005, \n",
    "    variant=variant,\n",
    "    C=3\n",
    ")\n",
    "\n",
    "train_acc = accuracy(model, train_loader, variant=variant)\n",
    "test_acc = accuracy(model, test_loader, variant=variant)\n",
    "print(f\"Train accuracy: {train_acc} | Test accuracy: {test_acc}\")"
   ]
  },
  {
   "cell_type": "code",
   "execution_count": null,
   "id": "b7e750ea",
   "metadata": {
    "scrolled": false
   },
   "outputs": [],
   "source": [
    "{\n",
    "    \"model_state_dict\": model.to(torch.device(\"cpu\")).state_dict(),\n",
    "    \"train_accuracy\": train_acc,\n",
    "    \"test_accuracy\": test_acc\n",
    "}"
   ]
  },
  {
   "cell_type": "code",
   "execution_count": null,
   "id": "a7b2e413",
   "metadata": {},
   "outputs": [],
   "source": [
    "model.hidden_neurons.a.shape"
   ]
  },
  {
   "cell_type": "code",
   "execution_count": null,
   "id": "a2049226",
   "metadata": {},
   "outputs": [],
   "source": [
    "import matplotlib.pyplot as plt\n",
    "\n",
    "plt.plot(list(range(model.hidden_neurons.k)), model.hidden_neurons.a.detach()[4,:]) "
   ]
  }
 ],
 "metadata": {
  "kernelspec": {
   "display_name": "Python 3 (ipykernel)",
   "language": "python",
   "name": "python3"
  },
  "language_info": {
   "codemirror_mode": {
    "name": "ipython",
    "version": 3
   },
   "file_extension": ".py",
   "mimetype": "text/x-python",
   "name": "python",
   "nbconvert_exporter": "python",
   "pygments_lexer": "ipython3",
   "version": "3.10.11"
  }
 },
 "nbformat": 4,
 "nbformat_minor": 5
}
