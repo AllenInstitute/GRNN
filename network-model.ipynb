{
 "cells": [
  {
   "cell_type": "code",
   "execution_count": 1,
   "id": "be2019eb",
   "metadata": {},
   "outputs": [],
   "source": [
    "import torch\n",
    "#import torch_directml\n",
    "import torch.nn.functional as F\n",
    "import matplotlib.pyplot as plt\n",
    "\n",
    "from network import Network\n",
    "from data import get_MNIST_data_loaders\n",
    "from train import train_network\n",
    "from evaluate import accuracy\n",
    "\n",
    "import numpy as np"
   ]
  },
  {
   "cell_type": "code",
   "execution_count": 2,
   "id": "c33115b2",
   "metadata": {},
   "outputs": [
    {
     "name": "stdout",
     "output_type": "stream",
     "text": [
      "device=device(type='cpu')\n"
     ]
    }
   ],
   "source": [
    "device = torch.device(\"cuda\" if torch.cuda.is_available() else \"cpu\")\n",
    "print(f\"{device=}\")\n",
    "\n",
    "variant = \"l\"\n",
    "batch_size = 256\n",
    "\n",
    "train_loader, test_loader = get_MNIST_data_loaders(batch_size, variant=variant)"
   ]
  },
  {
   "cell_type": "code",
   "execution_count": 15,
   "id": "fff9dc6c",
   "metadata": {},
   "outputs": [],
   "source": [
    "def load_network(fname):\n",
    "    state = torch.load(fname)\n",
    "    model = Network(\n",
    "        1 if state[\"variant\"] == \"p\" else 28, \n",
    "        state[\"hidden_dim\"], \n",
    "        10,\n",
    "        freeze_neurons=state[\"freeze_neurons\"], \n",
    "        freeze_g=state[\"freeze_activations\"]\n",
    "    )\n",
    "    model.load_state_dict(state[\"model_state_dict\"])\n",
    "    return model\n",
    "\n",
    "def load_rnn(fname, lstm=False):\n",
    "    state = torch.load(fname)\n",
    "    model = RNN(\n",
    "        1 if state[\"variant\"] == \"p\" else 28, \n",
    "        state[\"hidden_dim\"], \n",
    "        10,\n",
    "        lstm=lstm\n",
    "    )\n",
    "    model.load_state_dict(state[\"model_state_dict\"])\n",
    "    return model\n",
    "\n",
    "def permuted_network(fname, variant, n_neurons):\n",
    "    model = load_network(fname)\n",
    "\n",
    "    in_dim = model.in_dim\n",
    "    hidden_dim = model.hidden_dim\n",
    "    out_dim = model.out_dim\n",
    "    \n",
    "    new_model = Network(\n",
    "        in_dim, \n",
    "        hidden_dim, \n",
    "        out_dim,\n",
    "        freeze_neurons=True, \n",
    "        freeze_g=True\n",
    "    )\n",
    "\n",
    "    idxs = (np.random.rand(n_neurons) * n_neurons).astype(int)\n",
    "    new_model.hidden_neurons.g.max_current = torch.nn.Parameter(model.hidden_neurons.g.max_current.detach().clone()[idxs], requires_grad=False)\n",
    "    new_model.hidden_neurons.g.max_firing_rate = torch.nn.Parameter(model.hidden_neurons.g.max_firing_rate.detach().clone()[idxs], requires_grad=False)\n",
    "    new_model.hidden_neurons.g.max_firing_rate = torch.nn.Parameter(model.hidden_neurons.g.max_firing_rate.detach().clone()[idxs], requires_grad=False)\n",
    "    new_model.hidden_neurons.g.b = torch.nn.Parameter(model.hidden_neurons.g.b.detach().clone()[idxs], requires_grad=False)\n",
    "    new_model.hidden_neurons.g.poly_coeff = torch.nn.Parameter(model.hidden_neurons.g.poly_coeff.detach().clone()[idxs], requires_grad=False)\n",
    "    new_model.hidden_neurons.a = torch.nn.Parameter(model.hidden_neurons.a.detach().clone()[idxs, :], requires_grad=False)\n",
    "    new_model.hidden_neurons.b = torch.nn.Parameter(model.hidden_neurons.b.detach().clone()[idxs, :], requires_grad=False)\n",
    "\n",
    "    return new_model"
   ]
  },
  {
   "cell_type": "code",
   "execution_count": 4,
   "id": "46900c24-2362-4b19-8a4f-6504012263dc",
   "metadata": {},
   "outputs": [],
   "source": [
    "class RNN(torch.nn.Module):\n",
    "    def __init__(self, in_dim, hidden_dim, out_dim, lstm=False, device=None):\n",
    "        super().__init__()\n",
    "        self.in_dim = in_dim\n",
    "        self.hidden_dim = hidden_dim\n",
    "        self.out_dim = out_dim\n",
    "        if lstm:\n",
    "            self.rnn = torch.nn.LSTM(in_dim, hidden_dim)\n",
    "        else:\n",
    "            self.rnn = torch.nn.RNN(in_dim, hidden_dim)\n",
    "        self.fc = torch.nn.Linear(hidden_dim, out_dim)\n",
    "        self.device = device\n",
    "        self.lstm = lstm\n",
    "\n",
    "    def reset(self, batch_size):\n",
    "        self.xh = torch.zeros(1, batch_size, self.hidden_dim).to(self.device)\n",
    "        if self.lstm:\n",
    "            self.xc = torch.zeros(1, batch_size, self.hidden_dim).to(self.device)\n",
    "        \n",
    "    def zero_input(self, batch_size):\n",
    "        return torch.zeros(batch_size, self.in_dim).to(self.device)\n",
    "        \n",
    "    def forward(self, x):\n",
    "        if self.lstm:\n",
    "            z, (self.xh, self.xc) = self.rnn(x.unsqueeze(dim=0), (self.xh, self.xc))\n",
    "        else:\n",
    "            z, self.xh = self.rnn(x.unsqueeze(dim=0), self.xh)\n",
    "        return self.fc(z.reshape(x.shape[0], self.hidden_dim))"
   ]
  },
  {
   "cell_type": "code",
   "execution_count": 8,
   "id": "19c34dde-0819-4fd7-b44f-fdc4e69fa98d",
   "metadata": {},
   "outputs": [],
   "source": [
    "model = load_network(\"model/network_params/l_64_True_True.pt\")"
   ]
  },
  {
   "cell_type": "code",
   "execution_count": 16,
   "id": "12e50d78-8b66-49fe-ad3c-1d1bd9d26624",
   "metadata": {},
   "outputs": [],
   "source": [
    "model = load_rnn(\"model/network_params/l_64_lstm.pt\", lstm=True)"
   ]
  },
  {
   "cell_type": "code",
   "execution_count": 22,
   "id": "e7d1f3fa",
   "metadata": {
    "scrolled": true
   },
   "outputs": [],
   "source": [
    "in_dim = 1 if variant == \"p\" else 28\n",
    "hidden_dim = 30#64\n",
    "out_dim = 10\n",
    "lr = 1e-3\n",
    "epochs = 100\n",
    "freeze_neurons = True\n",
    "freeze_activations = True"
   ]
  },
  {
   "cell_type": "code",
   "execution_count": 23,
   "id": "d9cf8536-c5c4-4b8d-abc7-f820295237dd",
   "metadata": {},
   "outputs": [],
   "source": [
    "model = RNN(in_dim, hidden_dim, out_dim, lstm=True)"
   ]
  },
  {
   "cell_type": "code",
   "execution_count": null,
   "id": "6d58899d-019d-404f-aca8-a93aadc49048",
   "metadata": {},
   "outputs": [],
   "source": [
    "if freeze_neurons:\n",
    "    model = permuted_network(f\"model/network_params/l_{hidden_dim}_False_True.pt\", \"l\", hidden_dim)\n",
    "else:\n",
    "    model = Network(\n",
    "        in_dim, \n",
    "        hidden_dim, \n",
    "        out_dim,\n",
    "        freeze_neurons=freeze_neurons, \n",
    "        freeze_g=freeze_activations\n",
    "    )"
   ]
  },
  {
   "cell_type": "code",
   "execution_count": 25,
   "id": "6100eb17",
   "metadata": {},
   "outputs": [
    {
     "name": "stdout",
     "output_type": "stream",
     "text": [
      "Epoch 1 | Loss: 382.4295349121094\n",
      "Epoch 2 | Loss: 154.76206970214844\n",
      "Epoch 3 | Loss: 104.01383972167969\n",
      "Epoch 4 | Loss: 80.13578033447266\n",
      "Epoch 5 | Loss: 65.38260650634766\n",
      "Epoch 6 | Loss: 55.955020904541016\n",
      "Epoch 7 | Loss: 49.36930847167969\n",
      "Epoch 8 | Loss: 43.924015045166016\n",
      "Epoch 9 | Loss: 39.960758209228516\n",
      "Epoch 10 | Loss: 36.19942855834961\n",
      "Epoch 11 | Loss: 33.557701110839844\n",
      "Epoch 12 | Loss: 31.307674407958984\n",
      "Epoch 13 | Loss: 29.214557647705078\n",
      "Epoch 14 | Loss: 27.726770401000977\n",
      "Epoch 15 | Loss: 26.066349029541016\n",
      "Epoch 16 | Loss: 24.633543014526367\n",
      "Epoch 17 | Loss: 23.23685646057129\n",
      "Epoch 18 | Loss: 22.37148094177246\n",
      "Epoch 19 | Loss: 21.550722122192383\n",
      "Epoch 20 | Loss: 20.70616912841797\n",
      "Epoch 21 | Loss: 19.613544464111328\n",
      "Epoch 22 | Loss: 19.134441375732422\n",
      "Epoch 23 | Loss: 18.733346939086914\n",
      "Epoch 24 | Loss: 17.594409942626953\n",
      "Epoch 25 | Loss: 17.008438110351562\n",
      "Epoch 26 | Loss: 17.099416732788086\n",
      "Epoch 27 | Loss: 16.186809539794922\n",
      "Epoch 28 | Loss: 16.370229721069336\n",
      "Epoch 29 | Loss: 15.442824363708496\n",
      "Epoch 30 | Loss: 15.211487770080566\n",
      "Epoch 31 | Loss: 14.844603538513184\n",
      "Epoch 32 | Loss: 14.530366897583008\n",
      "Epoch 33 | Loss: 14.25747013092041\n",
      "Epoch 34 | Loss: 14.024871826171875\n",
      "Epoch 35 | Loss: 13.179197311401367\n",
      "Epoch 36 | Loss: 13.328387260437012\n",
      "Epoch 37 | Loss: 12.695205688476562\n",
      "Epoch 38 | Loss: 12.67844295501709\n",
      "Epoch 39 | Loss: 12.69096565246582\n",
      "Epoch 40 | Loss: 12.271955490112305\n",
      "Epoch 41 | Loss: 11.674395561218262\n",
      "Epoch 42 | Loss: 11.673508644104004\n",
      "Epoch 43 | Loss: 11.407780647277832\n",
      "Epoch 44 | Loss: 11.132314682006836\n",
      "Epoch 45 | Loss: 10.874049186706543\n",
      "Epoch 46 | Loss: 10.707919120788574\n",
      "Epoch 47 | Loss: 10.647512435913086\n",
      "Epoch 48 | Loss: 10.407062530517578\n",
      "Epoch 49 | Loss: 10.533849716186523\n",
      "Epoch 50 | Loss: 9.956934928894043\n",
      "Epoch 51 | Loss: 9.915358543395996\n",
      "Epoch 52 | Loss: 9.726755142211914\n",
      "Epoch 53 | Loss: 9.36246109008789\n",
      "Epoch 54 | Loss: 9.063180923461914\n",
      "Epoch 55 | Loss: 9.327046394348145\n",
      "Epoch 56 | Loss: 9.387911796569824\n",
      "Epoch 57 | Loss: 8.817218780517578\n",
      "Epoch 58 | Loss: 8.645064353942871\n",
      "Epoch 59 | Loss: 8.547243118286133\n",
      "Epoch 60 | Loss: 8.857977867126465\n",
      "Epoch 61 | Loss: 8.65131950378418\n",
      "Epoch 62 | Loss: 8.255998611450195\n",
      "Epoch 63 | Loss: 8.29686450958252\n",
      "Epoch 64 | Loss: 7.869135856628418\n",
      "Epoch 65 | Loss: 7.744150638580322\n",
      "Epoch 66 | Loss: 7.668051242828369\n",
      "Epoch 67 | Loss: 7.55127477645874\n",
      "Epoch 68 | Loss: 7.5736775398254395\n",
      "Epoch 69 | Loss: 7.309306621551514\n",
      "Epoch 70 | Loss: 6.887683868408203\n",
      "Epoch 71 | Loss: 6.9081315994262695\n",
      "Epoch 72 | Loss: 7.207582473754883\n",
      "Epoch 73 | Loss: 6.951320171356201\n",
      "Epoch 74 | Loss: 7.323791980743408\n",
      "Epoch 75 | Loss: 6.723554611206055\n",
      "Epoch 76 | Loss: 6.459100723266602\n",
      "Epoch 77 | Loss: 6.717317581176758\n",
      "Epoch 78 | Loss: 6.184138774871826\n",
      "Epoch 79 | Loss: 6.189863204956055\n",
      "Epoch 80 | Loss: 6.291228771209717\n",
      "Epoch 81 | Loss: 6.771999835968018\n",
      "Epoch 82 | Loss: 6.645147323608398\n",
      "Epoch 83 | Loss: 5.699464321136475\n",
      "Epoch 84 | Loss: 6.045212268829346\n",
      "Epoch 85 | Loss: 5.844034194946289\n",
      "Epoch 86 | Loss: 6.229421615600586\n",
      "Epoch 87 | Loss: 5.724582195281982\n",
      "Epoch 88 | Loss: 5.376366138458252\n",
      "Epoch 89 | Loss: 5.861944675445557\n",
      "Epoch 90 | Loss: 5.0232720375061035\n",
      "Epoch 91 | Loss: 5.5546793937683105\n",
      "Epoch 92 | Loss: 5.258697509765625\n",
      "Epoch 93 | Loss: 5.111630916595459\n",
      "Epoch 94 | Loss: 5.407815933227539\n",
      "Epoch 95 | Loss: 5.180941104888916\n",
      "Epoch 96 | Loss: 5.096917152404785\n",
      "Epoch 97 | Loss: 5.242622375488281\n",
      "Epoch 98 | Loss: 5.043478488922119\n",
      "Epoch 99 | Loss: 4.586879253387451\n",
      "Epoch 100 | Loss: 4.233956336975098\n"
     ]
    }
   ],
   "source": [
    "train_network(\n",
    "    model, \n",
    "    train_loader, \n",
    "    epochs=epochs, \n",
    "    lr=lr,\n",
    "    variant=variant,\n",
    ")"
   ]
  },
  {
   "cell_type": "code",
   "execution_count": 26,
   "id": "9a22ffa0",
   "metadata": {},
   "outputs": [
    {
     "name": "stdout",
     "output_type": "stream",
     "text": [
      "Train accuracy: 0.9944833517074585 | Test accuracy: 0.978600025177002\n"
     ]
    }
   ],
   "source": [
    "train_acc = accuracy(model, train_loader, variant=variant, device=device)\n",
    "test_acc = accuracy(model, test_loader, variant=variant, device=device)\n",
    "print(f\"Train accuracy: {train_acc} | Test accuracy: {test_acc}\")"
   ]
  },
  {
   "cell_type": "code",
   "execution_count": 27,
   "id": "1c6cbd1e",
   "metadata": {},
   "outputs": [
    {
     "data": {
      "text/plain": [
       "7510"
      ]
     },
     "execution_count": 27,
     "metadata": {},
     "output_type": "execute_result"
    }
   ],
   "source": [
    "sum(p.numel() for p in filter(lambda x: x.requires_grad, model.parameters()))"
   ]
  },
  {
   "cell_type": "code",
   "execution_count": null,
   "id": "aff9244d",
   "metadata": {},
   "outputs": [],
   "source": [
    "torch.save(\n",
    "    {\n",
    "        \"model_state_dict\": model.to(torch.device(\"cpu\")).state_dict(),\n",
    "        \"train_accuracy\": train_acc,\n",
    "        \"test_accuracy\": test_acc,\n",
    "        \"lr\": lr,\n",
    "        \"epochs\": epochs,\n",
    "        \"hidden_dim\": hidden_dim,\n",
    "        \"variant\": variant,\n",
    "        \"freeze_neurons\": freeze_neurons,\n",
    "        \"freeze_activations\": freeze_activations\n",
    "    },\n",
    "    f\"model/network_params/{variant}_{hidden_dim}_{freeze_neurons}_{freeze_activations}.pt\"\n",
    ")"
   ]
  },
  {
   "cell_type": "code",
   "execution_count": null,
   "id": "6f440305",
   "metadata": {},
   "outputs": [],
   "source": [
    "torch.save(\n",
    "    {\n",
    "        \"model_state_dict\": model.to(torch.device(\"cpu\")).state_dict(),\n",
    "        \"train_accuracy\": train_acc,\n",
    "        \"test_accuracy\": test_acc,\n",
    "        \"lr\": lr,\n",
    "        \"epochs\": epochs,\n",
    "        \"hidden_dim\": hidden_dim,\n",
    "        \"variant\": variant,\n",
    "        \"freeze_neurons\": freeze_neurons,\n",
    "        \"freeze_activations\": freeze_activations\n",
    "    },\n",
    "    f\"model/network_params/{variant}_{hidden_dim}_rnn.pt\"\n",
    ")"
   ]
  },
  {
   "cell_type": "code",
   "execution_count": null,
   "id": "45f50413-b251-4a56-beba-3779a3565bfa",
   "metadata": {},
   "outputs": [],
   "source": [
    "torch.save(\n",
    "    {\n",
    "        \"model_state_dict\": model.to(torch.device(\"cpu\")).state_dict(),\n",
    "        \"train_accuracy\": train_acc,\n",
    "        \"test_accuracy\": test_acc,\n",
    "        \"lr\": lr,\n",
    "        \"epochs\": epochs,\n",
    "        \"hidden_dim\": hidden_dim,\n",
    "        \"variant\": variant,\n",
    "        \"freeze_neurons\": freeze_neurons,\n",
    "        \"freeze_activations\": freeze_activations\n",
    "    },\n",
    "    f\"model/network_params/{variant}_{hidden_dim}_lstm.pt\"\n",
    ")"
   ]
  },
  {
   "cell_type": "code",
   "execution_count": null,
   "id": "6632153a-73b3-4281-af42-5b77c90d3eb0",
   "metadata": {},
   "outputs": [],
   "source": []
  }
 ],
 "metadata": {
  "kernelspec": {
   "display_name": "Python 3 (ipykernel)",
   "language": "python",
   "name": "python3"
  },
  "language_info": {
   "codemirror_mode": {
    "name": "ipython",
    "version": 3
   },
   "file_extension": ".py",
   "mimetype": "text/x-python",
   "name": "python",
   "nbconvert_exporter": "python",
   "pygments_lexer": "ipython3",
   "version": "3.10.12"
  }
 },
 "nbformat": 4,
 "nbformat_minor": 5
}
