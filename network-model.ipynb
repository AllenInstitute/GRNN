{
 "cells": [
  {
   "cell_type": "code",
   "execution_count": 1,
   "id": "be2019eb",
   "metadata": {},
   "outputs": [],
   "source": [
    "import torch\n",
    "import torch.nn.functional as F\n",
    "import matplotlib.pyplot as plt\n",
    "\n",
    "from network import Network\n",
    "from data import get_MNIST_data_loaders\n",
    "from train import train_network\n",
    "from evaluate import accuracy"
   ]
  },
  {
   "cell_type": "code",
   "execution_count": 2,
   "id": "fff9dc6c",
   "metadata": {},
   "outputs": [],
   "source": [
    "def load_network(fname):\n",
    "    state = torch.load(fname)\n",
    "    model = Network(\n",
    "        1 if state[\"variant\"] == \"p\" else 28, \n",
    "        state[\"hidden_dim\"], \n",
    "        10,\n",
    "        freeze_neurons=state[\"freeze_neurons\"], \n",
    "        freeze_g=state[\"freeze_activations\"]\n",
    "    )\n",
    "    model.load_state_dict(state[\"model_state_dict\"])\n",
    "    return model"
   ]
  },
  {
   "cell_type": "code",
   "execution_count": 3,
   "id": "c33115b2",
   "metadata": {},
   "outputs": [
    {
     "name": "stdout",
     "output_type": "stream",
     "text": [
      "device=device(type='cpu')\n"
     ]
    }
   ],
   "source": [
    "device = torch.device(\"cuda\" if torch.cuda.is_available() else \"cpu\")\n",
    "print(f\"{device=}\")\n",
    "\n",
    "variant = \"p\"\n",
    "in_dim = 1 if variant == \"p\" else 28\n",
    "hidden_dim = 128\n",
    "out_dim = 10\n",
    "batch_size = 256\n",
    "\n",
    "train_loader, test_loader = get_MNIST_data_loaders(batch_size, variant=variant)"
   ]
  },
  {
   "cell_type": "code",
   "execution_count": 3,
   "id": "e7d1f3fa",
   "metadata": {
    "scrolled": true
   },
   "outputs": [],
   "source": [
    "model = Network(\n",
    "    in_dim, \n",
    "    hidden_dim, \n",
    "    out_dim,\n",
    "    freeze_neurons=True, \n",
    "    freeze_g=True\n",
    ")"
   ]
  },
  {
   "cell_type": "code",
   "execution_count": 30,
   "id": "6100eb17",
   "metadata": {},
   "outputs": [
    {
     "name": "stdout",
     "output_type": "stream",
     "text": [
      "Epoch 1 | Loss: 46.079750061035156 | lr: [0.0005]\n",
      "Epoch 2 | Loss: 46.058109283447266 | lr: [0.0005]\n",
      "Epoch 3 | Loss: 46.01806640625 | lr: [0.0005]\n",
      "Epoch 4 | Loss: 45.99532699584961 | lr: [0.0005]\n",
      "Epoch 5 | Loss: 46.052974700927734 | lr: [0.0005]\n",
      "Epoch 6 | Loss: 45.98429870605469 | lr: [0.0005]\n",
      "Epoch 7 | Loss: 46.000118255615234 | lr: [0.0005]\n",
      "Epoch 8 | Loss: 45.968379974365234 | lr: [0.0005]\n",
      "Epoch 9 | Loss: 45.97325897216797 | lr: [0.0005]\n",
      "Epoch 10 | Loss: 46.04072570800781 | lr: [0.00025]\n",
      "Epoch 11 | Loss: 45.86256408691406 | lr: [0.00025]\n",
      "Epoch 12 | Loss: 45.87454605102539 | lr: [0.00025]\n",
      "Epoch 13 | Loss: 45.865272521972656 | lr: [0.00025]\n",
      "Epoch 14 | Loss: 45.91133117675781 | lr: [0.00025]\n",
      "Epoch 15 | Loss: 45.876670837402344 | lr: [0.00025]\n",
      "Epoch 16 | Loss: 45.90795135498047 | lr: [0.00025]\n",
      "Epoch 17 | Loss: 45.853858947753906 | lr: [0.00025]\n",
      "Epoch 18 | Loss: 45.8655891418457 | lr: [0.00025]\n",
      "Epoch 19 | Loss: 45.83961486816406 | lr: [0.00025]\n",
      "Epoch 20 | Loss: 45.82017517089844 | lr: [0.000125]\n",
      "Epoch 21 | Loss: 45.77285385131836 | lr: [0.000125]\n",
      "Epoch 22 | Loss: 45.81914138793945 | lr: [0.000125]\n",
      "Epoch 23 | Loss: 45.794090270996094 | lr: [0.000125]\n",
      "Epoch 24 | Loss: 45.81290817260742 | lr: [0.000125]\n",
      "Epoch 25 | Loss: 45.77257537841797 | lr: [0.000125]\n",
      "Epoch 26 | Loss: 45.86592102050781 | lr: [0.000125]\n",
      "Epoch 27 | Loss: 45.75310516357422 | lr: [0.000125]\n",
      "Epoch 28 | Loss: 45.793025970458984 | lr: [0.000125]\n",
      "Epoch 29 | Loss: 45.766029357910156 | lr: [0.000125]\n",
      "Epoch 30 | Loss: 45.7371826171875 | lr: [0.000125]\n"
     ]
    }
   ],
   "source": [
    "train_network(\n",
    "    model, \n",
    "    train_loader, \n",
    "    epochs=30, \n",
    "    lr=1e-3, \n",
    "    variant=variant,\n",
    "    C=0\n",
    ")"
   ]
  },
  {
   "cell_type": "code",
   "execution_count": 31,
   "id": "9a22ffa0",
   "metadata": {},
   "outputs": [
    {
     "name": "stdout",
     "output_type": "stream",
     "text": [
      "Train accuracy: 0.9493833184242249 | Test accuracy: 0.9323999881744385\n"
     ]
    }
   ],
   "source": [
    "train_acc = accuracy(model, train_loader, variant=variant, device=device)\n",
    "test_acc = accuracy(model, test_loader, variant=variant, device=device)\n",
    "print(f\"Train accuracy: {train_acc} | Test accuracy: {test_acc}\")"
   ]
  },
  {
   "cell_type": "code",
   "execution_count": 7,
   "id": "1c6cbd1e",
   "metadata": {},
   "outputs": [
    {
     "data": {
      "text/plain": [
       "1450"
      ]
     },
     "execution_count": 7,
     "metadata": {},
     "output_type": "execute_result"
    }
   ],
   "source": [
    "sum(p.numel() for p in filter(lambda x: x.requires_grad, model.parameters()))"
   ]
  },
  {
   "cell_type": "code",
   "execution_count": 32,
   "id": "aff9244d",
   "metadata": {},
   "outputs": [],
   "source": [
    "variant = \"p\" if model.in_dim == 1 else \"l\"\n",
    "lr = 0.00001\n",
    "epochs = 10\n",
    "hidden_dim = model.hidden_dim\n",
    "neuron_type = \"ekfr\"\n",
    "freeze_neurons = True\n",
    "freeze_activations = True\n",
    "\n",
    "torch.save(\n",
    "    {\n",
    "        \"model_state_dict\": model.to(torch.device(\"cpu\")).state_dict(),\n",
    "        \"train_accuracy\": train_acc,\n",
    "        \"test_accuracy\": test_acc,\n",
    "        \"lr\": lr,\n",
    "        \"epochs\": epochs,\n",
    "        \"hidden_dim\": hidden_dim,\n",
    "        \"neuron_type\": neuron_type,\n",
    "        \"variant\": variant,\n",
    "        \"freeze_neurons\": freeze_neurons,\n",
    "        \"freeze_activations\": freeze_activations\n",
    "    },\n",
    "    f\"model/network_params/{variant}_{neuron_type}_{hidden_dim}_{freeze_neurons}_{freeze_activations}.pt\"\n",
    ")"
   ]
  },
  {
   "cell_type": "code",
   "execution_count": null,
   "id": "6f440305",
   "metadata": {},
   "outputs": [],
   "source": []
  }
 ],
 "metadata": {
  "kernelspec": {
   "display_name": "Python 3 (ipykernel)",
   "language": "python",
   "name": "python3"
  },
  "language_info": {
   "codemirror_mode": {
    "name": "ipython",
    "version": 3
   },
   "file_extension": ".py",
   "mimetype": "text/x-python",
   "name": "python",
   "nbconvert_exporter": "python",
   "pygments_lexer": "ipython3",
   "version": "3.10.11"
  }
 },
 "nbformat": 4,
 "nbformat_minor": 5
}
