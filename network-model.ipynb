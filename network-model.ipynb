{
 "cells": [
  {
   "cell_type": "code",
   "execution_count": 7,
   "id": "be2019eb",
   "metadata": {},
   "outputs": [],
   "source": [
    "import torch\n",
    "import torch.nn.functional as F\n",
    "import matplotlib.pyplot as plt\n",
    "\n",
    "from network import Network\n",
    "from data import get_MNIST_data_loaders\n",
    "from train import train_network\n",
    "from evaluate import accuracy\n",
    "\n",
    "import numpy as np"
   ]
  },
  {
   "cell_type": "code",
   "execution_count": 2,
   "id": "fff9dc6c",
   "metadata": {},
   "outputs": [],
   "source": [
    "def load_network(fname):\n",
    "    state = torch.load(fname)\n",
    "    model = Network(\n",
    "        1 if state[\"variant\"] == \"p\" else 28, \n",
    "        state[\"hidden_dim\"], \n",
    "        10,\n",
    "        freeze_neurons=state[\"freeze_neurons\"], \n",
    "        freeze_g=state[\"freeze_activations\"]\n",
    "    )\n",
    "    model.load_state_dict(state[\"model_state_dict\"])\n",
    "    return model"
   ]
  },
  {
   "cell_type": "code",
   "execution_count": 3,
   "id": "c33115b2",
   "metadata": {},
   "outputs": [
    {
     "name": "stdout",
     "output_type": "stream",
     "text": [
      "device=device(type='cpu')\n"
     ]
    }
   ],
   "source": [
    "device = torch.device(\"cuda\" if torch.cuda.is_available() else \"cpu\")\n",
    "print(f\"{device=}\")\n",
    "\n",
    "variant = \"p\"\n",
    "batch_size = 256\n",
    "\n",
    "train_loader, test_loader = get_MNIST_data_loaders(batch_size, variant=variant)"
   ]
  },
  {
   "cell_type": "code",
   "execution_count": 4,
   "id": "19c34dde-0819-4fd7-b44f-fdc4e69fa98d",
   "metadata": {},
   "outputs": [],
   "source": [
    "model = load_network(\"model/network_params/l_256_False_True.pt\")"
   ]
  },
  {
   "cell_type": "code",
   "execution_count": 23,
   "id": "82470221-b25f-48ac-be86-f8ad512474cf",
   "metadata": {},
   "outputs": [],
   "source": [
    "def permuted_network(fname, variant):\n",
    "    model = load_network(fname)\n",
    "\n",
    "    in_dim = model.in_dim\n",
    "    hidden_dim = model.hidden_dim\n",
    "    out_dim = model.out_dim\n",
    "    \n",
    "    new_model = Network(\n",
    "        in_dim, \n",
    "        hidden_dim, \n",
    "        out_dim,\n",
    "        freeze_neurons=True, \n",
    "        freeze_g=True\n",
    "    )\n",
    "\n",
    "    idxs = (np.random.rand(256) * 256).astype(int)\n",
    "    new_model.hidden_neurons.g.max_current = torch.nn.Parameter(model.hidden_neurons.g.max_current.detach().clone()[idxs], requires_grad=False)\n",
    "    new_model.hidden_neurons.g.max_firing_rate = torch.nn.Parameter(model.hidden_neurons.g.max_firing_rate.detach().clone()[idxs], requires_grad=False)\n",
    "    new_model.hidden_neurons.g.max_firing_rate = torch.nn.Parameter(model.hidden_neurons.g.max_firing_rate.detach().clone()[idxs], requires_grad=False)\n",
    "    new_model.hidden_neurons.g.b = torch.nn.Parameter(model.hidden_neurons.g.b.detach().clone()[idxs], requires_grad=False)\n",
    "    new_model.hidden_neurons.g.poly_coeff = torch.nn.Parameter(model.hidden_neurons.g.poly_coeff.detach().clone()[idxs], requires_grad=False)\n",
    "    new_model.hidden_neurons.a = torch.nn.Parameter(model.hidden_neurons.a.detach().clone()[idxs, :], requires_grad=False)\n",
    "    new_model.hidden_neurons.b = torch.nn.Parameter(model.hidden_neurons.b.detach().clone()[idxs, :], requires_grad=False)\n",
    "\n",
    "    return new_model"
   ]
  },
  {
   "cell_type": "code",
   "execution_count": 25,
   "id": "504e9de8-8ec1-4edf-8ebb-7582df6c2a33",
   "metadata": {},
   "outputs": [],
   "source": [
    "model = permuted_network(\"model/network_params/l_256_False_True.pt\", \"l\")"
   ]
  },
  {
   "cell_type": "code",
   "execution_count": null,
   "id": "e7d1f3fa",
   "metadata": {
    "scrolled": true
   },
   "outputs": [],
   "source": [
    "in_dim = 1 if variant == \"p\" else 28\n",
    "hidden_dim = 128\n",
    "out_dim = 10\n",
    "\n",
    "model = Network(\n",
    "    in_dim, \n",
    "    hidden_dim, \n",
    "    out_dim,\n",
    "    freeze_neurons=True, \n",
    "    freeze_g=True\n",
    ")"
   ]
  },
  {
   "cell_type": "code",
   "execution_count": null,
   "id": "6100eb17",
   "metadata": {},
   "outputs": [],
   "source": [
    "train_network(\n",
    "    model, \n",
    "    train_loader, \n",
    "    epochs=30, \n",
    "    lr=1e-3, \n",
    "    variant=variant,\n",
    "    C=0\n",
    ")"
   ]
  },
  {
   "cell_type": "code",
   "execution_count": null,
   "id": "9a22ffa0",
   "metadata": {},
   "outputs": [],
   "source": [
    "train_acc = accuracy(model, train_loader, variant=variant, device=device)\n",
    "test_acc = accuracy(model, test_loader, variant=variant, device=device)\n",
    "print(f\"Train accuracy: {train_acc} | Test accuracy: {test_acc}\")"
   ]
  },
  {
   "cell_type": "code",
   "execution_count": null,
   "id": "1c6cbd1e",
   "metadata": {},
   "outputs": [],
   "source": [
    "sum(p.numel() for p in filter(lambda x: x.requires_grad, model.parameters()))"
   ]
  },
  {
   "cell_type": "code",
   "execution_count": null,
   "id": "aff9244d",
   "metadata": {},
   "outputs": [],
   "source": [
    "variant = \"p\" if model.in_dim == 1 else \"l\"\n",
    "lr = 0.00001\n",
    "epochs = 10\n",
    "hidden_dim = model.hidden_dim\n",
    "neuron_type = \"ekfr\"\n",
    "freeze_neurons = True\n",
    "freeze_activations = True\n",
    "\n",
    "torch.save(\n",
    "    {\n",
    "        \"model_state_dict\": model.to(torch.device(\"cpu\")).state_dict(),\n",
    "        \"train_accuracy\": train_acc,\n",
    "        \"test_accuracy\": test_acc,\n",
    "        \"lr\": lr,\n",
    "        \"epochs\": epochs,\n",
    "        \"hidden_dim\": hidden_dim,\n",
    "        \"neuron_type\": neuron_type,\n",
    "        \"variant\": variant,\n",
    "        \"freeze_neurons\": freeze_neurons,\n",
    "        \"freeze_activations\": freeze_activations\n",
    "    },\n",
    "    f\"model/network_params/{variant}_{neuron_type}_{hidden_dim}_{freeze_neurons}_{freeze_activations}.pt\"\n",
    ")"
   ]
  },
  {
   "cell_type": "code",
   "execution_count": null,
   "id": "6f440305",
   "metadata": {},
   "outputs": [],
   "source": []
  }
 ],
 "metadata": {
  "kernelspec": {
   "display_name": "Python 3 (ipykernel)",
   "language": "python",
   "name": "python3"
  },
  "language_info": {
   "codemirror_mode": {
    "name": "ipython",
    "version": 3
   },
   "file_extension": ".py",
   "mimetype": "text/x-python",
   "name": "python",
   "nbconvert_exporter": "python",
   "pygments_lexer": "ipython3",
   "version": "3.10.12"
  }
 },
 "nbformat": 4,
 "nbformat_minor": 5
}
