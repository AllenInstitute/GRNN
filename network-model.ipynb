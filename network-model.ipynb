{
 "cells": [
  {
   "cell_type": "code",
   "execution_count": 1,
   "id": "be2019eb",
   "metadata": {},
   "outputs": [],
   "source": [
    "import os\n",
    "import random\n",
    "import pickle\n",
    "\n",
    "import torch\n",
    "import torch.nn.functional as F\n",
    "import torchvision\n",
    "import numpy as np\n",
    "import matplotlib.pyplot as plt\n",
    "\n",
    "from tqdm import tqdm\n",
    "\n",
    "from model import (\n",
    "    BatchEKFR, BatchGFR, BatchPolynomialActivation, PolynomialActivation, \n",
    "    GeneralizedFiringRateModel, ExponentialKernelFiringRateModel\n",
    ")\n",
    "\n",
    "from network import (\n",
    "    get_params, get_neuron_layer, Network\n",
    ")"
   ]
  },
  {
   "cell_type": "code",
   "execution_count": 3,
   "id": "63224a0d",
   "metadata": {},
   "outputs": [],
   "source": [
    "def get_data_loaders(batch_size):\n",
    "    train_set = torchvision.datasets.MNIST('data/mnist/train', download=True, train=True, transform=torchvision.transforms.ToTensor())\n",
    "    test_set = torchvision.datasets.MNIST('data/mnist/test', download=True, train=False, transform=torchvision.transforms.ToTensor())\n",
    "    train_loader = torch.utils.data.DataLoader(train_set, batch_size=batch_size, shuffle=True)\n",
    "    test_loader = torch.utils.data.DataLoader(test_set, batch_size=batch_size, shuffle=True)\n",
    "    return train_loader, test_loader\n",
    "    \n",
    "# x: shape [batch_size, 28, 28]\n",
    "# returns shape [batch_size, seq_length, in_dim]\n",
    "def reshape_image(x, variant=\"p\"):\n",
    "    if variant == \"p\":\n",
    "        return x.reshape(x.shape[0], -1, 1)\n",
    "    else:\n",
    "        return x\n",
    "    \n",
    "def accuracy(model, data_loader, variant=\"p\"):\n",
    "    with torch.no_grad():\n",
    "        correct, total = 0, 0\n",
    "        for x, label in tqdm(data_loader):\n",
    "            x = x.reshape(x.shape[0], 28, 28)\n",
    "            x = reshape_image(x, variant=variant)\n",
    "\n",
    "            # sequentially send input into network\n",
    "            model.reset(x.shape[0])\n",
    "            for i in range(x.shape[1]):\n",
    "                model(x[:, i, :])\n",
    "\n",
    "            total_pred = torch.zeros(x.shape[0], 10)\n",
    "            for _ in range(5):\n",
    "                pred_y = model(model.zero_input(x.shape[0]))\n",
    "                total_pred += F.softmax(pred_y, dim=1) # add softmax\n",
    "            correct += torch.sum(torch.argmax(total_pred, dim=1) == label)\n",
    "            total += x.shape[0]\n",
    "    return correct / total\n",
    "    \n",
    "def train_network(model, train_loader, epochs, lr=0.005, variant=\"p\"):\n",
    "    criterion = torch.nn.CrossEntropyLoss()\n",
    "    #optimizer = torch.optim.RMSprop(model.parameters(), lr=0.1, centered=True)\n",
    "    optimizer = torch.optim.Adam(model.parameters(), lr=lr)\n",
    "    \n",
    "    for epoch in range(epochs):\n",
    "        total_loss = 0\n",
    "\n",
    "        for x, label in tqdm(train_loader):\n",
    "            x = x.reshape(x.shape[0], 28, 28)\n",
    "            x = reshape_image(x, variant=variant)\n",
    "            \n",
    "            # sequentially send input into network\n",
    "            model.reset(x.shape[0])\n",
    "            for i in range(x.shape[1]):\n",
    "                model(x[:, i, :])\n",
    "                \n",
    "            loss = 0\n",
    "            for _ in range(5):\n",
    "                pred_y = model(model.zero_input(x.shape[0]))\n",
    "                loss += criterion(pred_y, F.one_hot(label, num_classes=10).to(torch.float32))\n",
    "            loss /= 5\n",
    "            \n",
    "            loss += model.reg()\n",
    "            \n",
    "            optimizer.zero_grad()\n",
    "            loss.backward(retain_graph=True)\n",
    "            optimizer.step()\n",
    "            \n",
    "            total_loss += loss\n",
    "            \n",
    "        if (epoch+1) % 1 == 0:\n",
    "            print(f\"Epoch {epoch+1} / Loss: {total_loss}\")"
   ]
  },
  {
   "cell_type": "code",
   "execution_count": 4,
   "id": "e7d1f3fa",
   "metadata": {
    "scrolled": true
   },
   "outputs": [],
   "source": [
    "batch_size = 256\n",
    "variant = \"l\"\n",
    "in_dim = 1 if variant == \"p\" else 28\n",
    "out_dim = 10\n",
    "hidden_dim = 128\n",
    "epochs = 30\n",
    "train_loader, test_loader = get_data_loaders(batch_size)\n",
    "model = Network(in_dim, hidden_dim, out_dim, neuron_type=\"ekfr\", freeze_neurons=False)"
   ]
  },
  {
   "cell_type": "code",
   "execution_count": null,
   "id": "059b13ae",
   "metadata": {},
   "outputs": [
    {
     "name": "stderr",
     "output_type": "stream",
     "text": [
      "100%|█████████████████████████████████████████| 235/235 [00:39<00:00,  5.92it/s]\n"
     ]
    },
    {
     "name": "stdout",
     "output_type": "stream",
     "text": [
      "Epoch 1 / Loss: 447.07000732421875\n"
     ]
    },
    {
     "name": "stderr",
     "output_type": "stream",
     "text": [
      "100%|█████████████████████████████████████████| 235/235 [00:41<00:00,  5.70it/s]\n"
     ]
    },
    {
     "name": "stdout",
     "output_type": "stream",
     "text": [
      "Epoch 2 / Loss: 270.161376953125\n"
     ]
    },
    {
     "name": "stderr",
     "output_type": "stream",
     "text": [
      "100%|█████████████████████████████████████████| 235/235 [00:40<00:00,  5.77it/s]\n"
     ]
    },
    {
     "name": "stdout",
     "output_type": "stream",
     "text": [
      "Epoch 3 / Loss: 185.6604766845703\n"
     ]
    },
    {
     "name": "stderr",
     "output_type": "stream",
     "text": [
      "100%|█████████████████████████████████████████| 235/235 [00:40<00:00,  5.74it/s]\n"
     ]
    },
    {
     "name": "stdout",
     "output_type": "stream",
     "text": [
      "Epoch 4 / Loss: 146.80886840820312\n"
     ]
    },
    {
     "name": "stderr",
     "output_type": "stream",
     "text": [
      "100%|█████████████████████████████████████████| 235/235 [00:40<00:00,  5.75it/s]\n"
     ]
    },
    {
     "name": "stdout",
     "output_type": "stream",
     "text": [
      "Epoch 5 / Loss: 125.95415496826172\n"
     ]
    },
    {
     "name": "stderr",
     "output_type": "stream",
     "text": [
      "100%|█████████████████████████████████████████| 235/235 [00:40<00:00,  5.80it/s]\n"
     ]
    },
    {
     "name": "stdout",
     "output_type": "stream",
     "text": [
      "Epoch 6 / Loss: 113.37059020996094\n"
     ]
    },
    {
     "name": "stderr",
     "output_type": "stream",
     "text": [
      "100%|█████████████████████████████████████████| 235/235 [00:40<00:00,  5.75it/s]\n"
     ]
    },
    {
     "name": "stdout",
     "output_type": "stream",
     "text": [
      "Epoch 7 / Loss: 103.77672576904297\n"
     ]
    },
    {
     "name": "stderr",
     "output_type": "stream",
     "text": [
      "100%|█████████████████████████████████████████| 235/235 [00:40<00:00,  5.78it/s]\n"
     ]
    },
    {
     "name": "stdout",
     "output_type": "stream",
     "text": [
      "Epoch 8 / Loss: 98.12919616699219\n"
     ]
    },
    {
     "name": "stderr",
     "output_type": "stream",
     "text": [
      " 87%|███████████████████████████████████▌     | 204/235 [00:34<00:05,  5.66it/s]"
     ]
    }
   ],
   "source": [
    "train_network(model, train_loader, epochs, lr=0.005, variant=variant)"
   ]
  },
  {
   "cell_type": "code",
   "execution_count": null,
   "id": "8f7b25b3",
   "metadata": {},
   "outputs": [],
   "source": [
    "train_acc = accuracy(model, train_loader, variant=variant)\n",
    "test_acc = accuracy(model, test_loader, variant=variant)\n",
    "print(f\"Train accuracy: {train_acc} / Test accuracy: {test_acc}\")"
   ]
  },
  {
   "cell_type": "code",
   "execution_count": null,
   "id": "d3acc2d3",
   "metadata": {},
   "outputs": [],
   "source": [
    "plt.matshow(model.Wh.detach())\n",
    "plt.colorbar()"
   ]
  },
  {
   "cell_type": "code",
   "execution_count": null,
   "id": "e0857788",
   "metadata": {},
   "outputs": [],
   "source": [
    "plt.matshow(model.Wx.detach())\n",
    "plt.colorbar()"
   ]
  },
  {
   "cell_type": "code",
   "execution_count": null,
   "id": "e8495f63",
   "metadata": {},
   "outputs": [],
   "source": [
    "plt.matshow(model.Wy.detach())\n",
    "plt.colorbar()"
   ]
  },
  {
   "cell_type": "code",
   "execution_count": null,
   "id": "d6c57821",
   "metadata": {},
   "outputs": [],
   "source": []
  }
 ],
 "metadata": {
  "kernelspec": {
   "display_name": "Python 3 (ipykernel)",
   "language": "python",
   "name": "python3"
  },
  "language_info": {
   "codemirror_mode": {
    "name": "ipython",
    "version": 3
   },
   "file_extension": ".py",
   "mimetype": "text/x-python",
   "name": "python",
   "nbconvert_exporter": "python",
   "pygments_lexer": "ipython3",
   "version": "3.10.11"
  }
 },
 "nbformat": 4,
 "nbformat_minor": 5
}
